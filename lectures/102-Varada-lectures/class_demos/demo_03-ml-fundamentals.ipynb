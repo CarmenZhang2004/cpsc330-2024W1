{
 "cells": [
  {
   "cell_type": "markdown",
   "metadata": {
    "tags": []
   },
   "source": [
    "# Lecture 3: ML Fundamentals Class Demo"
   ]
  },
  {
   "cell_type": "markdown",
   "metadata": {
    "slideshow": {
     "slide_type": "skip"
    }
   },
   "source": [
    "## Imports"
   ]
  },
  {
   "cell_type": "code",
   "execution_count": 1,
   "metadata": {
    "slideshow": {
     "slide_type": "skip"
    }
   },
   "outputs": [],
   "source": [
    "# import the libraries\n",
    "import os\n",
    "import sys\n",
    "sys.path.append(os.path.join(os.path.abspath(\"..\"), (\"..\"), \"code\"))\n",
    "from plotting_functions import *\n",
    "from utils import *\n",
    "\n",
    "import matplotlib.pyplot as plt\n",
    "import numpy as np\n",
    "import pandas as pd\n",
    "\n",
    "%matplotlib inline\n",
    "\n",
    "DATA_DIR = os.path.join(os.path.abspath(\"..\"), (\"..\"), \"data/\")\n",
    "pd.set_option(\"display.max_colwidth\", 200)"
   ]
  },
  {
   "cell_type": "markdown",
   "metadata": {
    "slideshow": {
     "slide_type": "skip"
    }
   },
   "source": [
    "<br><br>"
   ]
  },
  {
   "cell_type": "markdown",
   "metadata": {},
   "source": [
    "## \n",
    "\n",
    "Let's bring back King County housing sale prediction data from the course introduction video. You can download the data from [here](https://www.kaggle.com/harlfoxem/housesalesprediction). "
   ]
  },
  {
   "cell_type": "code",
   "execution_count": 2,
   "metadata": {},
   "outputs": [
    {
     "data": {
      "text/html": [
       "<div>\n",
       "<style scoped>\n",
       "    .dataframe tbody tr th:only-of-type {\n",
       "        vertical-align: middle;\n",
       "    }\n",
       "\n",
       "    .dataframe tbody tr th {\n",
       "        vertical-align: top;\n",
       "    }\n",
       "\n",
       "    .dataframe thead th {\n",
       "        text-align: right;\n",
       "    }\n",
       "</style>\n",
       "<table border=\"1\" class=\"dataframe\">\n",
       "  <thead>\n",
       "    <tr style=\"text-align: right;\">\n",
       "      <th></th>\n",
       "      <th>id</th>\n",
       "      <th>date</th>\n",
       "      <th>price</th>\n",
       "      <th>bedrooms</th>\n",
       "      <th>bathrooms</th>\n",
       "      <th>sqft_living</th>\n",
       "      <th>sqft_lot</th>\n",
       "      <th>floors</th>\n",
       "      <th>waterfront</th>\n",
       "      <th>view</th>\n",
       "      <th>...</th>\n",
       "      <th>grade</th>\n",
       "      <th>sqft_above</th>\n",
       "      <th>sqft_basement</th>\n",
       "      <th>yr_built</th>\n",
       "      <th>yr_renovated</th>\n",
       "      <th>zipcode</th>\n",
       "      <th>lat</th>\n",
       "      <th>long</th>\n",
       "      <th>sqft_living15</th>\n",
       "      <th>sqft_lot15</th>\n",
       "    </tr>\n",
       "  </thead>\n",
       "  <tbody>\n",
       "    <tr>\n",
       "      <th>0</th>\n",
       "      <td>7129300520</td>\n",
       "      <td>20141013T000000</td>\n",
       "      <td>221900.0</td>\n",
       "      <td>3</td>\n",
       "      <td>1.00</td>\n",
       "      <td>1180</td>\n",
       "      <td>5650</td>\n",
       "      <td>1.0</td>\n",
       "      <td>0</td>\n",
       "      <td>0</td>\n",
       "      <td>...</td>\n",
       "      <td>7</td>\n",
       "      <td>1180</td>\n",
       "      <td>0</td>\n",
       "      <td>1955</td>\n",
       "      <td>0</td>\n",
       "      <td>98178</td>\n",
       "      <td>47.5112</td>\n",
       "      <td>-122.257</td>\n",
       "      <td>1340</td>\n",
       "      <td>5650</td>\n",
       "    </tr>\n",
       "    <tr>\n",
       "      <th>1</th>\n",
       "      <td>6414100192</td>\n",
       "      <td>20141209T000000</td>\n",
       "      <td>538000.0</td>\n",
       "      <td>3</td>\n",
       "      <td>2.25</td>\n",
       "      <td>2570</td>\n",
       "      <td>7242</td>\n",
       "      <td>2.0</td>\n",
       "      <td>0</td>\n",
       "      <td>0</td>\n",
       "      <td>...</td>\n",
       "      <td>7</td>\n",
       "      <td>2170</td>\n",
       "      <td>400</td>\n",
       "      <td>1951</td>\n",
       "      <td>1991</td>\n",
       "      <td>98125</td>\n",
       "      <td>47.7210</td>\n",
       "      <td>-122.319</td>\n",
       "      <td>1690</td>\n",
       "      <td>7639</td>\n",
       "    </tr>\n",
       "    <tr>\n",
       "      <th>2</th>\n",
       "      <td>5631500400</td>\n",
       "      <td>20150225T000000</td>\n",
       "      <td>180000.0</td>\n",
       "      <td>2</td>\n",
       "      <td>1.00</td>\n",
       "      <td>770</td>\n",
       "      <td>10000</td>\n",
       "      <td>1.0</td>\n",
       "      <td>0</td>\n",
       "      <td>0</td>\n",
       "      <td>...</td>\n",
       "      <td>6</td>\n",
       "      <td>770</td>\n",
       "      <td>0</td>\n",
       "      <td>1933</td>\n",
       "      <td>0</td>\n",
       "      <td>98028</td>\n",
       "      <td>47.7379</td>\n",
       "      <td>-122.233</td>\n",
       "      <td>2720</td>\n",
       "      <td>8062</td>\n",
       "    </tr>\n",
       "    <tr>\n",
       "      <th>3</th>\n",
       "      <td>2487200875</td>\n",
       "      <td>20141209T000000</td>\n",
       "      <td>604000.0</td>\n",
       "      <td>4</td>\n",
       "      <td>3.00</td>\n",
       "      <td>1960</td>\n",
       "      <td>5000</td>\n",
       "      <td>1.0</td>\n",
       "      <td>0</td>\n",
       "      <td>0</td>\n",
       "      <td>...</td>\n",
       "      <td>7</td>\n",
       "      <td>1050</td>\n",
       "      <td>910</td>\n",
       "      <td>1965</td>\n",
       "      <td>0</td>\n",
       "      <td>98136</td>\n",
       "      <td>47.5208</td>\n",
       "      <td>-122.393</td>\n",
       "      <td>1360</td>\n",
       "      <td>5000</td>\n",
       "    </tr>\n",
       "    <tr>\n",
       "      <th>4</th>\n",
       "      <td>1954400510</td>\n",
       "      <td>20150218T000000</td>\n",
       "      <td>510000.0</td>\n",
       "      <td>3</td>\n",
       "      <td>2.00</td>\n",
       "      <td>1680</td>\n",
       "      <td>8080</td>\n",
       "      <td>1.0</td>\n",
       "      <td>0</td>\n",
       "      <td>0</td>\n",
       "      <td>...</td>\n",
       "      <td>8</td>\n",
       "      <td>1680</td>\n",
       "      <td>0</td>\n",
       "      <td>1987</td>\n",
       "      <td>0</td>\n",
       "      <td>98074</td>\n",
       "      <td>47.6168</td>\n",
       "      <td>-122.045</td>\n",
       "      <td>1800</td>\n",
       "      <td>7503</td>\n",
       "    </tr>\n",
       "    <tr>\n",
       "      <th>...</th>\n",
       "      <td>...</td>\n",
       "      <td>...</td>\n",
       "      <td>...</td>\n",
       "      <td>...</td>\n",
       "      <td>...</td>\n",
       "      <td>...</td>\n",
       "      <td>...</td>\n",
       "      <td>...</td>\n",
       "      <td>...</td>\n",
       "      <td>...</td>\n",
       "      <td>...</td>\n",
       "      <td>...</td>\n",
       "      <td>...</td>\n",
       "      <td>...</td>\n",
       "      <td>...</td>\n",
       "      <td>...</td>\n",
       "      <td>...</td>\n",
       "      <td>...</td>\n",
       "      <td>...</td>\n",
       "      <td>...</td>\n",
       "      <td>...</td>\n",
       "    </tr>\n",
       "    <tr>\n",
       "      <th>21608</th>\n",
       "      <td>263000018</td>\n",
       "      <td>20140521T000000</td>\n",
       "      <td>360000.0</td>\n",
       "      <td>3</td>\n",
       "      <td>2.50</td>\n",
       "      <td>1530</td>\n",
       "      <td>1131</td>\n",
       "      <td>3.0</td>\n",
       "      <td>0</td>\n",
       "      <td>0</td>\n",
       "      <td>...</td>\n",
       "      <td>8</td>\n",
       "      <td>1530</td>\n",
       "      <td>0</td>\n",
       "      <td>2009</td>\n",
       "      <td>0</td>\n",
       "      <td>98103</td>\n",
       "      <td>47.6993</td>\n",
       "      <td>-122.346</td>\n",
       "      <td>1530</td>\n",
       "      <td>1509</td>\n",
       "    </tr>\n",
       "    <tr>\n",
       "      <th>21609</th>\n",
       "      <td>6600060120</td>\n",
       "      <td>20150223T000000</td>\n",
       "      <td>400000.0</td>\n",
       "      <td>4</td>\n",
       "      <td>2.50</td>\n",
       "      <td>2310</td>\n",
       "      <td>5813</td>\n",
       "      <td>2.0</td>\n",
       "      <td>0</td>\n",
       "      <td>0</td>\n",
       "      <td>...</td>\n",
       "      <td>8</td>\n",
       "      <td>2310</td>\n",
       "      <td>0</td>\n",
       "      <td>2014</td>\n",
       "      <td>0</td>\n",
       "      <td>98146</td>\n",
       "      <td>47.5107</td>\n",
       "      <td>-122.362</td>\n",
       "      <td>1830</td>\n",
       "      <td>7200</td>\n",
       "    </tr>\n",
       "    <tr>\n",
       "      <th>21610</th>\n",
       "      <td>1523300141</td>\n",
       "      <td>20140623T000000</td>\n",
       "      <td>402101.0</td>\n",
       "      <td>2</td>\n",
       "      <td>0.75</td>\n",
       "      <td>1020</td>\n",
       "      <td>1350</td>\n",
       "      <td>2.0</td>\n",
       "      <td>0</td>\n",
       "      <td>0</td>\n",
       "      <td>...</td>\n",
       "      <td>7</td>\n",
       "      <td>1020</td>\n",
       "      <td>0</td>\n",
       "      <td>2009</td>\n",
       "      <td>0</td>\n",
       "      <td>98144</td>\n",
       "      <td>47.5944</td>\n",
       "      <td>-122.299</td>\n",
       "      <td>1020</td>\n",
       "      <td>2007</td>\n",
       "    </tr>\n",
       "    <tr>\n",
       "      <th>21611</th>\n",
       "      <td>291310100</td>\n",
       "      <td>20150116T000000</td>\n",
       "      <td>400000.0</td>\n",
       "      <td>3</td>\n",
       "      <td>2.50</td>\n",
       "      <td>1600</td>\n",
       "      <td>2388</td>\n",
       "      <td>2.0</td>\n",
       "      <td>0</td>\n",
       "      <td>0</td>\n",
       "      <td>...</td>\n",
       "      <td>8</td>\n",
       "      <td>1600</td>\n",
       "      <td>0</td>\n",
       "      <td>2004</td>\n",
       "      <td>0</td>\n",
       "      <td>98027</td>\n",
       "      <td>47.5345</td>\n",
       "      <td>-122.069</td>\n",
       "      <td>1410</td>\n",
       "      <td>1287</td>\n",
       "    </tr>\n",
       "    <tr>\n",
       "      <th>21612</th>\n",
       "      <td>1523300157</td>\n",
       "      <td>20141015T000000</td>\n",
       "      <td>325000.0</td>\n",
       "      <td>2</td>\n",
       "      <td>0.75</td>\n",
       "      <td>1020</td>\n",
       "      <td>1076</td>\n",
       "      <td>2.0</td>\n",
       "      <td>0</td>\n",
       "      <td>0</td>\n",
       "      <td>...</td>\n",
       "      <td>7</td>\n",
       "      <td>1020</td>\n",
       "      <td>0</td>\n",
       "      <td>2008</td>\n",
       "      <td>0</td>\n",
       "      <td>98144</td>\n",
       "      <td>47.5941</td>\n",
       "      <td>-122.299</td>\n",
       "      <td>1020</td>\n",
       "      <td>1357</td>\n",
       "    </tr>\n",
       "  </tbody>\n",
       "</table>\n",
       "<p>21613 rows × 21 columns</p>\n",
       "</div>"
      ],
      "text/plain": [
       "               id             date     price  bedrooms  bathrooms  \\\n",
       "0      7129300520  20141013T000000  221900.0         3       1.00   \n",
       "1      6414100192  20141209T000000  538000.0         3       2.25   \n",
       "2      5631500400  20150225T000000  180000.0         2       1.00   \n",
       "3      2487200875  20141209T000000  604000.0         4       3.00   \n",
       "4      1954400510  20150218T000000  510000.0         3       2.00   \n",
       "...           ...              ...       ...       ...        ...   \n",
       "21608   263000018  20140521T000000  360000.0         3       2.50   \n",
       "21609  6600060120  20150223T000000  400000.0         4       2.50   \n",
       "21610  1523300141  20140623T000000  402101.0         2       0.75   \n",
       "21611   291310100  20150116T000000  400000.0         3       2.50   \n",
       "21612  1523300157  20141015T000000  325000.0         2       0.75   \n",
       "\n",
       "       sqft_living  sqft_lot  floors  waterfront  view  ...  grade  \\\n",
       "0             1180      5650     1.0           0     0  ...      7   \n",
       "1             2570      7242     2.0           0     0  ...      7   \n",
       "2              770     10000     1.0           0     0  ...      6   \n",
       "3             1960      5000     1.0           0     0  ...      7   \n",
       "4             1680      8080     1.0           0     0  ...      8   \n",
       "...            ...       ...     ...         ...   ...  ...    ...   \n",
       "21608         1530      1131     3.0           0     0  ...      8   \n",
       "21609         2310      5813     2.0           0     0  ...      8   \n",
       "21610         1020      1350     2.0           0     0  ...      7   \n",
       "21611         1600      2388     2.0           0     0  ...      8   \n",
       "21612         1020      1076     2.0           0     0  ...      7   \n",
       "\n",
       "       sqft_above  sqft_basement  yr_built  yr_renovated  zipcode      lat  \\\n",
       "0            1180              0      1955             0    98178  47.5112   \n",
       "1            2170            400      1951          1991    98125  47.7210   \n",
       "2             770              0      1933             0    98028  47.7379   \n",
       "3            1050            910      1965             0    98136  47.5208   \n",
       "4            1680              0      1987             0    98074  47.6168   \n",
       "...           ...            ...       ...           ...      ...      ...   \n",
       "21608        1530              0      2009             0    98103  47.6993   \n",
       "21609        2310              0      2014             0    98146  47.5107   \n",
       "21610        1020              0      2009             0    98144  47.5944   \n",
       "21611        1600              0      2004             0    98027  47.5345   \n",
       "21612        1020              0      2008             0    98144  47.5941   \n",
       "\n",
       "          long  sqft_living15  sqft_lot15  \n",
       "0     -122.257           1340        5650  \n",
       "1     -122.319           1690        7639  \n",
       "2     -122.233           2720        8062  \n",
       "3     -122.393           1360        5000  \n",
       "4     -122.045           1800        7503  \n",
       "...        ...            ...         ...  \n",
       "21608 -122.346           1530        1509  \n",
       "21609 -122.362           1830        7200  \n",
       "21610 -122.299           1020        2007  \n",
       "21611 -122.069           1410        1287  \n",
       "21612 -122.299           1020        1357  \n",
       "\n",
       "[21613 rows x 21 columns]"
      ]
     },
     "execution_count": 2,
     "metadata": {},
     "output_type": "execute_result"
    }
   ],
   "source": [
    "housing_df = pd.read_csv(DATA_DIR + 'kc_house_data.csv')\n",
    "housing_df"
   ]
  },
  {
   "cell_type": "markdown",
   "metadata": {},
   "source": [
    "## Exploratory Data Analysis"
   ]
  },
  {
   "cell_type": "markdown",
   "metadata": {},
   "source": [
    "Is this a classification problem or a regression problem? "
   ]
  },
  {
   "cell_type": "code",
   "execution_count": 3,
   "metadata": {},
   "outputs": [
    {
     "data": {
      "text/plain": [
       "21613"
      ]
     },
     "execution_count": 3,
     "metadata": {},
     "output_type": "execute_result"
    }
   ],
   "source": [
    "# How many data points do we have? \n",
    "housing_df.shape[0]"
   ]
  },
  {
   "cell_type": "code",
   "execution_count": 4,
   "metadata": {},
   "outputs": [
    {
     "data": {
      "text/plain": [
       "Index(['id', 'date', 'price', 'bedrooms', 'bathrooms', 'sqft_living',\n",
       "       'sqft_lot', 'floors', 'waterfront', 'view', 'condition', 'grade',\n",
       "       'sqft_above', 'sqft_basement', 'yr_built', 'yr_renovated', 'zipcode',\n",
       "       'lat', 'long', 'sqft_living15', 'sqft_lot15'],\n",
       "      dtype='object')"
      ]
     },
     "execution_count": 4,
     "metadata": {},
     "output_type": "execute_result"
    }
   ],
   "source": [
    "# What are the columns in the dataset? \n",
    "housing_df.columns"
   ]
  },
  {
   "cell_type": "markdown",
   "metadata": {},
   "source": [
    "Let's explore some features. Let's try the `describe()` method"
   ]
  },
  {
   "cell_type": "code",
   "execution_count": 5,
   "metadata": {},
   "outputs": [
    {
     "data": {
      "text/html": [
       "<div>\n",
       "<style scoped>\n",
       "    .dataframe tbody tr th:only-of-type {\n",
       "        vertical-align: middle;\n",
       "    }\n",
       "\n",
       "    .dataframe tbody tr th {\n",
       "        vertical-align: top;\n",
       "    }\n",
       "\n",
       "    .dataframe thead th {\n",
       "        text-align: right;\n",
       "    }\n",
       "</style>\n",
       "<table border=\"1\" class=\"dataframe\">\n",
       "  <thead>\n",
       "    <tr style=\"text-align: right;\">\n",
       "      <th></th>\n",
       "      <th>id</th>\n",
       "      <th>date</th>\n",
       "      <th>price</th>\n",
       "      <th>bedrooms</th>\n",
       "      <th>bathrooms</th>\n",
       "      <th>sqft_living</th>\n",
       "      <th>sqft_lot</th>\n",
       "      <th>floors</th>\n",
       "      <th>waterfront</th>\n",
       "      <th>view</th>\n",
       "      <th>...</th>\n",
       "      <th>grade</th>\n",
       "      <th>sqft_above</th>\n",
       "      <th>sqft_basement</th>\n",
       "      <th>yr_built</th>\n",
       "      <th>yr_renovated</th>\n",
       "      <th>zipcode</th>\n",
       "      <th>lat</th>\n",
       "      <th>long</th>\n",
       "      <th>sqft_living15</th>\n",
       "      <th>sqft_lot15</th>\n",
       "    </tr>\n",
       "  </thead>\n",
       "  <tbody>\n",
       "    <tr>\n",
       "      <th>count</th>\n",
       "      <td>2.161300e+04</td>\n",
       "      <td>21613</td>\n",
       "      <td>2.161300e+04</td>\n",
       "      <td>21613.000000</td>\n",
       "      <td>21613.000000</td>\n",
       "      <td>21613.000000</td>\n",
       "      <td>2.161300e+04</td>\n",
       "      <td>21613.000000</td>\n",
       "      <td>21613.000000</td>\n",
       "      <td>21613.000000</td>\n",
       "      <td>...</td>\n",
       "      <td>21613.000000</td>\n",
       "      <td>21613.000000</td>\n",
       "      <td>21613.000000</td>\n",
       "      <td>21613.000000</td>\n",
       "      <td>21613.000000</td>\n",
       "      <td>21613.000000</td>\n",
       "      <td>21613.000000</td>\n",
       "      <td>21613.000000</td>\n",
       "      <td>21613.000000</td>\n",
       "      <td>21613.000000</td>\n",
       "    </tr>\n",
       "    <tr>\n",
       "      <th>unique</th>\n",
       "      <td>NaN</td>\n",
       "      <td>372</td>\n",
       "      <td>NaN</td>\n",
       "      <td>NaN</td>\n",
       "      <td>NaN</td>\n",
       "      <td>NaN</td>\n",
       "      <td>NaN</td>\n",
       "      <td>NaN</td>\n",
       "      <td>NaN</td>\n",
       "      <td>NaN</td>\n",
       "      <td>...</td>\n",
       "      <td>NaN</td>\n",
       "      <td>NaN</td>\n",
       "      <td>NaN</td>\n",
       "      <td>NaN</td>\n",
       "      <td>NaN</td>\n",
       "      <td>NaN</td>\n",
       "      <td>NaN</td>\n",
       "      <td>NaN</td>\n",
       "      <td>NaN</td>\n",
       "      <td>NaN</td>\n",
       "    </tr>\n",
       "    <tr>\n",
       "      <th>top</th>\n",
       "      <td>NaN</td>\n",
       "      <td>20140623T000000</td>\n",
       "      <td>NaN</td>\n",
       "      <td>NaN</td>\n",
       "      <td>NaN</td>\n",
       "      <td>NaN</td>\n",
       "      <td>NaN</td>\n",
       "      <td>NaN</td>\n",
       "      <td>NaN</td>\n",
       "      <td>NaN</td>\n",
       "      <td>...</td>\n",
       "      <td>NaN</td>\n",
       "      <td>NaN</td>\n",
       "      <td>NaN</td>\n",
       "      <td>NaN</td>\n",
       "      <td>NaN</td>\n",
       "      <td>NaN</td>\n",
       "      <td>NaN</td>\n",
       "      <td>NaN</td>\n",
       "      <td>NaN</td>\n",
       "      <td>NaN</td>\n",
       "    </tr>\n",
       "    <tr>\n",
       "      <th>freq</th>\n",
       "      <td>NaN</td>\n",
       "      <td>142</td>\n",
       "      <td>NaN</td>\n",
       "      <td>NaN</td>\n",
       "      <td>NaN</td>\n",
       "      <td>NaN</td>\n",
       "      <td>NaN</td>\n",
       "      <td>NaN</td>\n",
       "      <td>NaN</td>\n",
       "      <td>NaN</td>\n",
       "      <td>...</td>\n",
       "      <td>NaN</td>\n",
       "      <td>NaN</td>\n",
       "      <td>NaN</td>\n",
       "      <td>NaN</td>\n",
       "      <td>NaN</td>\n",
       "      <td>NaN</td>\n",
       "      <td>NaN</td>\n",
       "      <td>NaN</td>\n",
       "      <td>NaN</td>\n",
       "      <td>NaN</td>\n",
       "    </tr>\n",
       "    <tr>\n",
       "      <th>mean</th>\n",
       "      <td>4.580302e+09</td>\n",
       "      <td>NaN</td>\n",
       "      <td>5.400881e+05</td>\n",
       "      <td>3.370842</td>\n",
       "      <td>2.114757</td>\n",
       "      <td>2079.899736</td>\n",
       "      <td>1.510697e+04</td>\n",
       "      <td>1.494309</td>\n",
       "      <td>0.007542</td>\n",
       "      <td>0.234303</td>\n",
       "      <td>...</td>\n",
       "      <td>7.656873</td>\n",
       "      <td>1788.390691</td>\n",
       "      <td>291.509045</td>\n",
       "      <td>1971.005136</td>\n",
       "      <td>84.402258</td>\n",
       "      <td>98077.939805</td>\n",
       "      <td>47.560053</td>\n",
       "      <td>-122.213896</td>\n",
       "      <td>1986.552492</td>\n",
       "      <td>12768.455652</td>\n",
       "    </tr>\n",
       "    <tr>\n",
       "      <th>std</th>\n",
       "      <td>2.876566e+09</td>\n",
       "      <td>NaN</td>\n",
       "      <td>3.671272e+05</td>\n",
       "      <td>0.930062</td>\n",
       "      <td>0.770163</td>\n",
       "      <td>918.440897</td>\n",
       "      <td>4.142051e+04</td>\n",
       "      <td>0.539989</td>\n",
       "      <td>0.086517</td>\n",
       "      <td>0.766318</td>\n",
       "      <td>...</td>\n",
       "      <td>1.175459</td>\n",
       "      <td>828.090978</td>\n",
       "      <td>442.575043</td>\n",
       "      <td>29.373411</td>\n",
       "      <td>401.679240</td>\n",
       "      <td>53.505026</td>\n",
       "      <td>0.138564</td>\n",
       "      <td>0.140828</td>\n",
       "      <td>685.391304</td>\n",
       "      <td>27304.179631</td>\n",
       "    </tr>\n",
       "    <tr>\n",
       "      <th>min</th>\n",
       "      <td>1.000102e+06</td>\n",
       "      <td>NaN</td>\n",
       "      <td>7.500000e+04</td>\n",
       "      <td>0.000000</td>\n",
       "      <td>0.000000</td>\n",
       "      <td>290.000000</td>\n",
       "      <td>5.200000e+02</td>\n",
       "      <td>1.000000</td>\n",
       "      <td>0.000000</td>\n",
       "      <td>0.000000</td>\n",
       "      <td>...</td>\n",
       "      <td>1.000000</td>\n",
       "      <td>290.000000</td>\n",
       "      <td>0.000000</td>\n",
       "      <td>1900.000000</td>\n",
       "      <td>0.000000</td>\n",
       "      <td>98001.000000</td>\n",
       "      <td>47.155900</td>\n",
       "      <td>-122.519000</td>\n",
       "      <td>399.000000</td>\n",
       "      <td>651.000000</td>\n",
       "    </tr>\n",
       "    <tr>\n",
       "      <th>25%</th>\n",
       "      <td>2.123049e+09</td>\n",
       "      <td>NaN</td>\n",
       "      <td>3.219500e+05</td>\n",
       "      <td>3.000000</td>\n",
       "      <td>1.750000</td>\n",
       "      <td>1427.000000</td>\n",
       "      <td>5.040000e+03</td>\n",
       "      <td>1.000000</td>\n",
       "      <td>0.000000</td>\n",
       "      <td>0.000000</td>\n",
       "      <td>...</td>\n",
       "      <td>7.000000</td>\n",
       "      <td>1190.000000</td>\n",
       "      <td>0.000000</td>\n",
       "      <td>1951.000000</td>\n",
       "      <td>0.000000</td>\n",
       "      <td>98033.000000</td>\n",
       "      <td>47.471000</td>\n",
       "      <td>-122.328000</td>\n",
       "      <td>1490.000000</td>\n",
       "      <td>5100.000000</td>\n",
       "    </tr>\n",
       "    <tr>\n",
       "      <th>50%</th>\n",
       "      <td>3.904930e+09</td>\n",
       "      <td>NaN</td>\n",
       "      <td>4.500000e+05</td>\n",
       "      <td>3.000000</td>\n",
       "      <td>2.250000</td>\n",
       "      <td>1910.000000</td>\n",
       "      <td>7.618000e+03</td>\n",
       "      <td>1.500000</td>\n",
       "      <td>0.000000</td>\n",
       "      <td>0.000000</td>\n",
       "      <td>...</td>\n",
       "      <td>7.000000</td>\n",
       "      <td>1560.000000</td>\n",
       "      <td>0.000000</td>\n",
       "      <td>1975.000000</td>\n",
       "      <td>0.000000</td>\n",
       "      <td>98065.000000</td>\n",
       "      <td>47.571800</td>\n",
       "      <td>-122.230000</td>\n",
       "      <td>1840.000000</td>\n",
       "      <td>7620.000000</td>\n",
       "    </tr>\n",
       "    <tr>\n",
       "      <th>75%</th>\n",
       "      <td>7.308900e+09</td>\n",
       "      <td>NaN</td>\n",
       "      <td>6.450000e+05</td>\n",
       "      <td>4.000000</td>\n",
       "      <td>2.500000</td>\n",
       "      <td>2550.000000</td>\n",
       "      <td>1.068800e+04</td>\n",
       "      <td>2.000000</td>\n",
       "      <td>0.000000</td>\n",
       "      <td>0.000000</td>\n",
       "      <td>...</td>\n",
       "      <td>8.000000</td>\n",
       "      <td>2210.000000</td>\n",
       "      <td>560.000000</td>\n",
       "      <td>1997.000000</td>\n",
       "      <td>0.000000</td>\n",
       "      <td>98118.000000</td>\n",
       "      <td>47.678000</td>\n",
       "      <td>-122.125000</td>\n",
       "      <td>2360.000000</td>\n",
       "      <td>10083.000000</td>\n",
       "    </tr>\n",
       "    <tr>\n",
       "      <th>max</th>\n",
       "      <td>9.900000e+09</td>\n",
       "      <td>NaN</td>\n",
       "      <td>7.700000e+06</td>\n",
       "      <td>33.000000</td>\n",
       "      <td>8.000000</td>\n",
       "      <td>13540.000000</td>\n",
       "      <td>1.651359e+06</td>\n",
       "      <td>3.500000</td>\n",
       "      <td>1.000000</td>\n",
       "      <td>4.000000</td>\n",
       "      <td>...</td>\n",
       "      <td>13.000000</td>\n",
       "      <td>9410.000000</td>\n",
       "      <td>4820.000000</td>\n",
       "      <td>2015.000000</td>\n",
       "      <td>2015.000000</td>\n",
       "      <td>98199.000000</td>\n",
       "      <td>47.777600</td>\n",
       "      <td>-121.315000</td>\n",
       "      <td>6210.000000</td>\n",
       "      <td>871200.000000</td>\n",
       "    </tr>\n",
       "  </tbody>\n",
       "</table>\n",
       "<p>11 rows × 21 columns</p>\n",
       "</div>"
      ],
      "text/plain": [
       "                  id             date         price      bedrooms  \\\n",
       "count   2.161300e+04            21613  2.161300e+04  21613.000000   \n",
       "unique           NaN              372           NaN           NaN   \n",
       "top              NaN  20140623T000000           NaN           NaN   \n",
       "freq             NaN              142           NaN           NaN   \n",
       "mean    4.580302e+09              NaN  5.400881e+05      3.370842   \n",
       "std     2.876566e+09              NaN  3.671272e+05      0.930062   \n",
       "min     1.000102e+06              NaN  7.500000e+04      0.000000   \n",
       "25%     2.123049e+09              NaN  3.219500e+05      3.000000   \n",
       "50%     3.904930e+09              NaN  4.500000e+05      3.000000   \n",
       "75%     7.308900e+09              NaN  6.450000e+05      4.000000   \n",
       "max     9.900000e+09              NaN  7.700000e+06     33.000000   \n",
       "\n",
       "           bathrooms   sqft_living      sqft_lot        floors    waterfront  \\\n",
       "count   21613.000000  21613.000000  2.161300e+04  21613.000000  21613.000000   \n",
       "unique           NaN           NaN           NaN           NaN           NaN   \n",
       "top              NaN           NaN           NaN           NaN           NaN   \n",
       "freq             NaN           NaN           NaN           NaN           NaN   \n",
       "mean        2.114757   2079.899736  1.510697e+04      1.494309      0.007542   \n",
       "std         0.770163    918.440897  4.142051e+04      0.539989      0.086517   \n",
       "min         0.000000    290.000000  5.200000e+02      1.000000      0.000000   \n",
       "25%         1.750000   1427.000000  5.040000e+03      1.000000      0.000000   \n",
       "50%         2.250000   1910.000000  7.618000e+03      1.500000      0.000000   \n",
       "75%         2.500000   2550.000000  1.068800e+04      2.000000      0.000000   \n",
       "max         8.000000  13540.000000  1.651359e+06      3.500000      1.000000   \n",
       "\n",
       "                view  ...         grade    sqft_above  sqft_basement  \\\n",
       "count   21613.000000  ...  21613.000000  21613.000000   21613.000000   \n",
       "unique           NaN  ...           NaN           NaN            NaN   \n",
       "top              NaN  ...           NaN           NaN            NaN   \n",
       "freq             NaN  ...           NaN           NaN            NaN   \n",
       "mean        0.234303  ...      7.656873   1788.390691     291.509045   \n",
       "std         0.766318  ...      1.175459    828.090978     442.575043   \n",
       "min         0.000000  ...      1.000000    290.000000       0.000000   \n",
       "25%         0.000000  ...      7.000000   1190.000000       0.000000   \n",
       "50%         0.000000  ...      7.000000   1560.000000       0.000000   \n",
       "75%         0.000000  ...      8.000000   2210.000000     560.000000   \n",
       "max         4.000000  ...     13.000000   9410.000000    4820.000000   \n",
       "\n",
       "            yr_built  yr_renovated       zipcode           lat          long  \\\n",
       "count   21613.000000  21613.000000  21613.000000  21613.000000  21613.000000   \n",
       "unique           NaN           NaN           NaN           NaN           NaN   \n",
       "top              NaN           NaN           NaN           NaN           NaN   \n",
       "freq             NaN           NaN           NaN           NaN           NaN   \n",
       "mean     1971.005136     84.402258  98077.939805     47.560053   -122.213896   \n",
       "std        29.373411    401.679240     53.505026      0.138564      0.140828   \n",
       "min      1900.000000      0.000000  98001.000000     47.155900   -122.519000   \n",
       "25%      1951.000000      0.000000  98033.000000     47.471000   -122.328000   \n",
       "50%      1975.000000      0.000000  98065.000000     47.571800   -122.230000   \n",
       "75%      1997.000000      0.000000  98118.000000     47.678000   -122.125000   \n",
       "max      2015.000000   2015.000000  98199.000000     47.777600   -121.315000   \n",
       "\n",
       "        sqft_living15     sqft_lot15  \n",
       "count    21613.000000   21613.000000  \n",
       "unique            NaN            NaN  \n",
       "top               NaN            NaN  \n",
       "freq              NaN            NaN  \n",
       "mean      1986.552492   12768.455652  \n",
       "std        685.391304   27304.179631  \n",
       "min        399.000000     651.000000  \n",
       "25%       1490.000000    5100.000000  \n",
       "50%       1840.000000    7620.000000  \n",
       "75%       2360.000000   10083.000000  \n",
       "max       6210.000000  871200.000000  \n",
       "\n",
       "[11 rows x 21 columns]"
      ]
     },
     "execution_count": 5,
     "metadata": {},
     "output_type": "execute_result"
    }
   ],
   "source": [
    "housing_df.describe(include='all')"
   ]
  },
  {
   "cell_type": "markdown",
   "metadata": {},
   "source": [
    "Do we need to keep all the columns? "
   ]
  },
  {
   "cell_type": "code",
   "execution_count": 6,
   "metadata": {},
   "outputs": [
    {
     "data": {
      "text/plain": [
       "21436"
      ]
     },
     "execution_count": 6,
     "metadata": {},
     "output_type": "execute_result"
    }
   ],
   "source": [
    "housing_df['id'].unique().shape[0]"
   ]
  },
  {
   "cell_type": "code",
   "execution_count": 7,
   "metadata": {},
   "outputs": [
    {
     "data": {
      "text/plain": [
       "zipcode\n",
       "98103    602\n",
       "98038    590\n",
       "98115    583\n",
       "98052    574\n",
       "98117    553\n",
       "        ... \n",
       "98102    105\n",
       "98010    100\n",
       "98024     81\n",
       "98148     57\n",
       "98039     50\n",
       "Name: count, Length: 70, dtype: int64"
      ]
     },
     "execution_count": 7,
     "metadata": {},
     "output_type": "execute_result"
    }
   ],
   "source": [
    "housing_df['zipcode'].value_counts()"
   ]
  },
  {
   "cell_type": "code",
   "execution_count": 8,
   "metadata": {},
   "outputs": [],
   "source": [
    "dates = pd.to_datetime(['20141013T000000', '20141209T000000', '20150218T000000'], format='%Y%m%dT%H%M%S')"
   ]
  },
  {
   "cell_type": "code",
   "execution_count": 9,
   "metadata": {},
   "outputs": [
    {
     "data": {
      "text/plain": [
       "waterfront\n",
       "0    21450\n",
       "1      163\n",
       "Name: count, dtype: int64"
      ]
     },
     "execution_count": 9,
     "metadata": {},
     "output_type": "execute_result"
    }
   ],
   "source": [
    "# What are the value counts of the `waterfront` feature? \n",
    "housing_df['waterfront'].value_counts()"
   ]
  },
  {
   "cell_type": "code",
   "execution_count": 10,
   "metadata": {},
   "outputs": [
    {
     "data": {
      "text/plain": [
       "yr_renovated\n",
       "0       20699\n",
       "2014       91\n",
       "2013       37\n",
       "2003       36\n",
       "2005       35\n",
       "        ...  \n",
       "1951        1\n",
       "1959        1\n",
       "1948        1\n",
       "1954        1\n",
       "1944        1\n",
       "Name: count, Length: 70, dtype: int64"
      ]
     },
     "execution_count": 10,
     "metadata": {},
     "output_type": "execute_result"
    }
   ],
   "source": [
    "# What are the value_counts of `yr_renovated` feature? \n",
    "housing_df['yr_renovated'].value_counts()"
   ]
  },
  {
   "cell_type": "markdown",
   "metadata": {},
   "source": [
    "Many opportunities to clean the data but we'll stop here. "
   ]
  },
  {
   "cell_type": "markdown",
   "metadata": {},
   "source": [
    "Let's create `X` and `y`. "
   ]
  },
  {
   "cell_type": "code",
<<<<<<< HEAD
   "execution_count": 11,
=======
   "execution_count": 15,
>>>>>>> parent of fc4de9d (Merge branch 'main' of https://github.com/UBC-CS/cpsc330-2024W1)
   "metadata": {},
   "outputs": [],
   "source": [
    "X = housing_df.drop(columns = [\"id\", \"date\", \"zipcode\", \"price\"])"
   ]
  },
  {
   "cell_type": "code",
<<<<<<< HEAD
   "execution_count": 12,
   "metadata": {},
   "outputs": [],
   "source": [
    "y = housing_df['price']"
=======
   "execution_count": 14,
   "metadata": {},
   "outputs": [],
   "source": [
    "y = housing_df['']"
>>>>>>> parent of fc4de9d (Merge branch 'main' of https://github.com/UBC-CS/cpsc330-2024W1)
   ]
  },
  {
   "cell_type": "markdown",
   "metadata": {},
   "source": [
    "<br><br>"
   ]
  },
  {
   "cell_type": "markdown",
   "metadata": {},
   "source": [
    "## Baseline model "
   ]
  },
  {
   "cell_type": "code",
<<<<<<< HEAD
   "execution_count": 13,
   "metadata": {},
   "outputs": [
    {
     "data": {
      "text/plain": [
       "0.0"
      ]
     },
     "execution_count": 13,
     "metadata": {},
     "output_type": "execute_result"
    }
   ],
=======
   "execution_count": null,
   "metadata": {},
   "outputs": [],
>>>>>>> parent of fc4de9d (Merge branch 'main' of https://github.com/UBC-CS/cpsc330-2024W1)
   "source": [
    "# Train a DummyRegressor model \n",
    "\n",
    "from sklearn.dummy import DummyRegressor # Import DummyRegressor \n",
    "\n",
    "# Create a class object for the sklearn model.\n",
    "dummy_regr = DummyRegressor()\n",
    "\n",
    "\n",
    "# fit the dummy regressor\n",
<<<<<<< HEAD
    "dummy_regr.fit(X, y)\n",
=======
    "dummy_regr.fir(X, y)\n",
>>>>>>> parent of fc4de9d (Merge branch 'main' of https://github.com/UBC-CS/cpsc330-2024W1)
    "\n",
    "# score the model \n",
    "dummy_regr.score(X, y)\n"
   ]
  },
  {
   "cell_type": "markdown",
   "metadata": {},
   "source": [
    "How to interpret the score here? "
   ]
  },
  {
   "cell_type": "code",
<<<<<<< HEAD
   "execution_count": 14,
   "metadata": {},
   "outputs": [
    {
     "data": {
      "text/plain": [
       "array([540088.14176653, 540088.14176653, 540088.14176653, ...,\n",
       "       540088.14176653, 540088.14176653, 540088.14176653])"
      ]
     },
     "execution_count": 14,
     "metadata": {},
     "output_type": "execute_result"
    }
   ],
=======
   "execution_count": null,
   "metadata": {},
   "outputs": [],
>>>>>>> parent of fc4de9d (Merge branch 'main' of https://github.com/UBC-CS/cpsc330-2024W1)
   "source": [
    "# predict on X using the model\n",
    "dummy_regr.predict(X)"
   ]
  },
  {
   "cell_type": "markdown",
   "metadata": {},
   "source": [
    "<br><br>"
   ]
  },
  {
   "cell_type": "markdown",
   "metadata": {},
   "source": [
    "## Decision tree model "
   ]
  },
  {
   "cell_type": "code",
<<<<<<< HEAD
   "execution_count": 15,
   "metadata": {},
   "outputs": [
    {
     "data": {
      "text/plain": [
       "0.9991338290544213"
      ]
     },
     "execution_count": 15,
     "metadata": {},
     "output_type": "execute_result"
    }
   ],
=======
   "execution_count": null,
   "metadata": {},
   "outputs": [],
>>>>>>> parent of fc4de9d (Merge branch 'main' of https://github.com/UBC-CS/cpsc330-2024W1)
   "source": [
    "# Train a decision tree model \n",
    "\n",
    "from sklearn.tree import DecisionTreeRegressor # Import DecisionTreeRegressor \n",
    "\n",
    "# Create a class object for the sklearn model.\n",
<<<<<<< HEAD
    "dt_regr = DecisionTreeRegressor(random_state = 123)\n",
    "\n",
    "\n",
    "# fit the decision tree regressor \n",
    "dt_regr.fit(X, y)\n",
    "\n",
    "# score the model \n",
    "dt_regr.score(X, y)"
=======
    "dt_regr = DecisionTreeREgressor(random\n",
    "\n",
    "\n",
    "# fit the decision tree regressor \n",
    "\n",
    "\n",
    "# score the model \n"
>>>>>>> parent of fc4de9d (Merge branch 'main' of https://github.com/UBC-CS/cpsc330-2024W1)
   ]
  },
  {
   "cell_type": "markdown",
   "metadata": {},
   "source": [
    "We are getting a perfect accuracy. Should we be happy with this model and deploy it? Why or why not?"
   ]
  },
  {
   "cell_type": "markdown",
   "metadata": {},
   "source": [
    "What's the depth of this model? "
   ]
  },
  {
   "cell_type": "code",
<<<<<<< HEAD
   "execution_count": 16,
   "metadata": {},
   "outputs": [
    {
     "data": {
      "text/plain": [
       "38"
      ]
     },
     "execution_count": 16,
     "metadata": {},
     "output_type": "execute_result"
    }
   ],
   "source": [
    "dt_regr.get_depth()"
   ]
=======
   "execution_count": null,
   "metadata": {},
   "outputs": [],
   "source": []
>>>>>>> parent of fc4de9d (Merge branch 'main' of https://github.com/UBC-CS/cpsc330-2024W1)
  },
  {
   "cell_type": "markdown",
   "metadata": {},
   "source": [
    "<br><br>"
   ]
  },
  {
   "cell_type": "markdown",
   "metadata": {},
   "source": [
    "## Data splitting "
   ]
  },
  {
   "cell_type": "markdown",
   "metadata": {},
   "source": [
    "Let's split the data and  \n",
    "- Train on the train split \n",
    "- Score on the test split"
   ]
  },
  {
   "cell_type": "code",
<<<<<<< HEAD
   "execution_count": 17,
=======
   "execution_count": null,
>>>>>>> parent of fc4de9d (Merge branch 'main' of https://github.com/UBC-CS/cpsc330-2024W1)
   "metadata": {},
   "outputs": [],
   "source": [
    "# Split the data \n",
    "from sklearn.model_selection import train_test_split\n",
<<<<<<< HEAD
    "X_train, X_test, y_train, y_test = train_test_split(X, y, test_size = 0.2, random_state = 123)"
=======
    "X_train, X_test, y_train, y_test = "
>>>>>>> parent of fc4de9d (Merge branch 'main' of https://github.com/UBC-CS/cpsc330-2024W1)
   ]
  },
  {
   "cell_type": "code",
<<<<<<< HEAD
   "execution_count": 18,
   "metadata": {},
   "outputs": [
    {
     "data": {
      "text/plain": [
       "0.9994394006711425"
      ]
     },
     "execution_count": 18,
     "metadata": {},
     "output_type": "execute_result"
    }
   ],
=======
   "execution_count": null,
   "metadata": {},
   "outputs": [],
>>>>>>> parent of fc4de9d (Merge branch 'main' of https://github.com/UBC-CS/cpsc330-2024W1)
   "source": [
    "# Instantiate a class object \n",
    "dt = DecisionTreeRegressor(random_state=123)\n",
    "\n",
    "# Train a decision tree on X_train, y_train\n",
    "dt.fit(X_train, y_train)\n",
    "\n",
    "# Score on the train set\n",
    "dt.score(X_train, y_train)\n"
   ]
  },
  {
   "cell_type": "code",
<<<<<<< HEAD
   "execution_count": 19,
   "metadata": {},
   "outputs": [
    {
     "data": {
      "text/plain": [
       "0.719915905190645"
      ]
     },
     "execution_count": 19,
     "metadata": {},
     "output_type": "execute_result"
    }
   ],
=======
   "execution_count": null,
   "metadata": {},
   "outputs": [],
>>>>>>> parent of fc4de9d (Merge branch 'main' of https://github.com/UBC-CS/cpsc330-2024W1)
   "source": [
    "# Score on the test set\n",
    "dt.score(X_test, y_test)\n"
   ]
  },
  {
   "cell_type": "markdown",
   "metadata": {},
   "source": [
    "### Activity: Discuss the following questions in your group\n",
    "\n",
    "- Why is there a large gap between train and test scores? \n",
    "- What would be the effect of increasing or decreasing `test_size`?\n",
    "- Why are we setting the `random_state`? Is it a good idea to try a bunch of values for the `random_state` and pick the one which gives the best scores? \n",
    "- Would it be possible to further improve the scores? "
   ]
  },
  {
   "cell_type": "markdown",
   "metadata": {},
   "source": [
<<<<<<< HEAD
    "Why is there a large gap between train and test scores? The model is overfitting the training data.\n",
    "\n",
    "What would be the effect of increasing or decreasing test_size? We want as much data in training data. Increase test_size, more reliable.\n",
    "\n",
    "Why are we setting the random_state? Is it a good idea to try a bunch of values for the random_state and pick the one which gives the best scores? Not good idea.\n",
    "\n",
    "Would it be possible to further improve the scores? Possible."
   ]
  },
  {
   "cell_type": "markdown",
   "metadata": {},
   "source": [
=======
>>>>>>> parent of fc4de9d (Merge branch 'main' of https://github.com/UBC-CS/cpsc330-2024W1)
    "<br><br>"
   ]
  },
  {
   "cell_type": "markdown",
   "metadata": {},
   "source": [
    "## Hyperparameter optimization \n",
    "\n",
    "Let's try out different tree depths. "
   ]
  },
  {
   "cell_type": "code",
<<<<<<< HEAD
   "execution_count": 20,
   "metadata": {},
   "outputs": [
    {
     "data": {
      "text/html": [
       "<style>#sk-container-id-1 {\n",
       "  /* Definition of color scheme common for light and dark mode */\n",
       "  --sklearn-color-text: black;\n",
       "  --sklearn-color-line: gray;\n",
       "  /* Definition of color scheme for unfitted estimators */\n",
       "  --sklearn-color-unfitted-level-0: #fff5e6;\n",
       "  --sklearn-color-unfitted-level-1: #f6e4d2;\n",
       "  --sklearn-color-unfitted-level-2: #ffe0b3;\n",
       "  --sklearn-color-unfitted-level-3: chocolate;\n",
       "  /* Definition of color scheme for fitted estimators */\n",
       "  --sklearn-color-fitted-level-0: #f0f8ff;\n",
       "  --sklearn-color-fitted-level-1: #d4ebff;\n",
       "  --sklearn-color-fitted-level-2: #b3dbfd;\n",
       "  --sklearn-color-fitted-level-3: cornflowerblue;\n",
       "\n",
       "  /* Specific color for light theme */\n",
       "  --sklearn-color-text-on-default-background: var(--sg-text-color, var(--theme-code-foreground, var(--jp-content-font-color1, black)));\n",
       "  --sklearn-color-background: var(--sg-background-color, var(--theme-background, var(--jp-layout-color0, white)));\n",
       "  --sklearn-color-border-box: var(--sg-text-color, var(--theme-code-foreground, var(--jp-content-font-color1, black)));\n",
       "  --sklearn-color-icon: #696969;\n",
       "\n",
       "  @media (prefers-color-scheme: dark) {\n",
       "    /* Redefinition of color scheme for dark theme */\n",
       "    --sklearn-color-text-on-default-background: var(--sg-text-color, var(--theme-code-foreground, var(--jp-content-font-color1, white)));\n",
       "    --sklearn-color-background: var(--sg-background-color, var(--theme-background, var(--jp-layout-color0, #111)));\n",
       "    --sklearn-color-border-box: var(--sg-text-color, var(--theme-code-foreground, var(--jp-content-font-color1, white)));\n",
       "    --sklearn-color-icon: #878787;\n",
       "  }\n",
       "}\n",
       "\n",
       "#sk-container-id-1 {\n",
       "  color: var(--sklearn-color-text);\n",
       "}\n",
       "\n",
       "#sk-container-id-1 pre {\n",
       "  padding: 0;\n",
       "}\n",
       "\n",
       "#sk-container-id-1 input.sk-hidden--visually {\n",
       "  border: 0;\n",
       "  clip: rect(1px 1px 1px 1px);\n",
       "  clip: rect(1px, 1px, 1px, 1px);\n",
       "  height: 1px;\n",
       "  margin: -1px;\n",
       "  overflow: hidden;\n",
       "  padding: 0;\n",
       "  position: absolute;\n",
       "  width: 1px;\n",
       "}\n",
       "\n",
       "#sk-container-id-1 div.sk-dashed-wrapped {\n",
       "  border: 1px dashed var(--sklearn-color-line);\n",
       "  margin: 0 0.4em 0.5em 0.4em;\n",
       "  box-sizing: border-box;\n",
       "  padding-bottom: 0.4em;\n",
       "  background-color: var(--sklearn-color-background);\n",
       "}\n",
       "\n",
       "#sk-container-id-1 div.sk-container {\n",
       "  /* jupyter's `normalize.less` sets `[hidden] { display: none; }`\n",
       "     but bootstrap.min.css set `[hidden] { display: none !important; }`\n",
       "     so we also need the `!important` here to be able to override the\n",
       "     default hidden behavior on the sphinx rendered scikit-learn.org.\n",
       "     See: https://github.com/scikit-learn/scikit-learn/issues/21755 */\n",
       "  display: inline-block !important;\n",
       "  position: relative;\n",
       "}\n",
       "\n",
       "#sk-container-id-1 div.sk-text-repr-fallback {\n",
       "  display: none;\n",
       "}\n",
       "\n",
       "div.sk-parallel-item,\n",
       "div.sk-serial,\n",
       "div.sk-item {\n",
       "  /* draw centered vertical line to link estimators */\n",
       "  background-image: linear-gradient(var(--sklearn-color-text-on-default-background), var(--sklearn-color-text-on-default-background));\n",
       "  background-size: 2px 100%;\n",
       "  background-repeat: no-repeat;\n",
       "  background-position: center center;\n",
       "}\n",
       "\n",
       "/* Parallel-specific style estimator block */\n",
       "\n",
       "#sk-container-id-1 div.sk-parallel-item::after {\n",
       "  content: \"\";\n",
       "  width: 100%;\n",
       "  border-bottom: 2px solid var(--sklearn-color-text-on-default-background);\n",
       "  flex-grow: 1;\n",
       "}\n",
       "\n",
       "#sk-container-id-1 div.sk-parallel {\n",
       "  display: flex;\n",
       "  align-items: stretch;\n",
       "  justify-content: center;\n",
       "  background-color: var(--sklearn-color-background);\n",
       "  position: relative;\n",
       "}\n",
       "\n",
       "#sk-container-id-1 div.sk-parallel-item {\n",
       "  display: flex;\n",
       "  flex-direction: column;\n",
       "}\n",
       "\n",
       "#sk-container-id-1 div.sk-parallel-item:first-child::after {\n",
       "  align-self: flex-end;\n",
       "  width: 50%;\n",
       "}\n",
       "\n",
       "#sk-container-id-1 div.sk-parallel-item:last-child::after {\n",
       "  align-self: flex-start;\n",
       "  width: 50%;\n",
       "}\n",
       "\n",
       "#sk-container-id-1 div.sk-parallel-item:only-child::after {\n",
       "  width: 0;\n",
       "}\n",
       "\n",
       "/* Serial-specific style estimator block */\n",
       "\n",
       "#sk-container-id-1 div.sk-serial {\n",
       "  display: flex;\n",
       "  flex-direction: column;\n",
       "  align-items: center;\n",
       "  background-color: var(--sklearn-color-background);\n",
       "  padding-right: 1em;\n",
       "  padding-left: 1em;\n",
       "}\n",
       "\n",
       "\n",
       "/* Toggleable style: style used for estimator/Pipeline/ColumnTransformer box that is\n",
       "clickable and can be expanded/collapsed.\n",
       "- Pipeline and ColumnTransformer use this feature and define the default style\n",
       "- Estimators will overwrite some part of the style using the `sk-estimator` class\n",
       "*/\n",
       "\n",
       "/* Pipeline and ColumnTransformer style (default) */\n",
       "\n",
       "#sk-container-id-1 div.sk-toggleable {\n",
       "  /* Default theme specific background. It is overwritten whether we have a\n",
       "  specific estimator or a Pipeline/ColumnTransformer */\n",
       "  background-color: var(--sklearn-color-background);\n",
       "}\n",
       "\n",
       "/* Toggleable label */\n",
       "#sk-container-id-1 label.sk-toggleable__label {\n",
       "  cursor: pointer;\n",
       "  display: block;\n",
       "  width: 100%;\n",
       "  margin-bottom: 0;\n",
       "  padding: 0.5em;\n",
       "  box-sizing: border-box;\n",
       "  text-align: center;\n",
       "}\n",
       "\n",
       "#sk-container-id-1 label.sk-toggleable__label-arrow:before {\n",
       "  /* Arrow on the left of the label */\n",
       "  content: \"▸\";\n",
       "  float: left;\n",
       "  margin-right: 0.25em;\n",
       "  color: var(--sklearn-color-icon);\n",
       "}\n",
       "\n",
       "#sk-container-id-1 label.sk-toggleable__label-arrow:hover:before {\n",
       "  color: var(--sklearn-color-text);\n",
       "}\n",
       "\n",
       "/* Toggleable content - dropdown */\n",
       "\n",
       "#sk-container-id-1 div.sk-toggleable__content {\n",
       "  max-height: 0;\n",
       "  max-width: 0;\n",
       "  overflow: hidden;\n",
       "  text-align: left;\n",
       "  /* unfitted */\n",
       "  background-color: var(--sklearn-color-unfitted-level-0);\n",
       "}\n",
       "\n",
       "#sk-container-id-1 div.sk-toggleable__content.fitted {\n",
       "  /* fitted */\n",
       "  background-color: var(--sklearn-color-fitted-level-0);\n",
       "}\n",
       "\n",
       "#sk-container-id-1 div.sk-toggleable__content pre {\n",
       "  margin: 0.2em;\n",
       "  border-radius: 0.25em;\n",
       "  color: var(--sklearn-color-text);\n",
       "  /* unfitted */\n",
       "  background-color: var(--sklearn-color-unfitted-level-0);\n",
       "}\n",
       "\n",
       "#sk-container-id-1 div.sk-toggleable__content.fitted pre {\n",
       "  /* unfitted */\n",
       "  background-color: var(--sklearn-color-fitted-level-0);\n",
       "}\n",
       "\n",
       "#sk-container-id-1 input.sk-toggleable__control:checked~div.sk-toggleable__content {\n",
       "  /* Expand drop-down */\n",
       "  max-height: 200px;\n",
       "  max-width: 100%;\n",
       "  overflow: auto;\n",
       "}\n",
       "\n",
       "#sk-container-id-1 input.sk-toggleable__control:checked~label.sk-toggleable__label-arrow:before {\n",
       "  content: \"▾\";\n",
       "}\n",
       "\n",
       "/* Pipeline/ColumnTransformer-specific style */\n",
       "\n",
       "#sk-container-id-1 div.sk-label input.sk-toggleable__control:checked~label.sk-toggleable__label {\n",
       "  color: var(--sklearn-color-text);\n",
       "  background-color: var(--sklearn-color-unfitted-level-2);\n",
       "}\n",
       "\n",
       "#sk-container-id-1 div.sk-label.fitted input.sk-toggleable__control:checked~label.sk-toggleable__label {\n",
       "  background-color: var(--sklearn-color-fitted-level-2);\n",
       "}\n",
       "\n",
       "/* Estimator-specific style */\n",
       "\n",
       "/* Colorize estimator box */\n",
       "#sk-container-id-1 div.sk-estimator input.sk-toggleable__control:checked~label.sk-toggleable__label {\n",
       "  /* unfitted */\n",
       "  background-color: var(--sklearn-color-unfitted-level-2);\n",
       "}\n",
       "\n",
       "#sk-container-id-1 div.sk-estimator.fitted input.sk-toggleable__control:checked~label.sk-toggleable__label {\n",
       "  /* fitted */\n",
       "  background-color: var(--sklearn-color-fitted-level-2);\n",
       "}\n",
       "\n",
       "#sk-container-id-1 div.sk-label label.sk-toggleable__label,\n",
       "#sk-container-id-1 div.sk-label label {\n",
       "  /* The background is the default theme color */\n",
       "  color: var(--sklearn-color-text-on-default-background);\n",
       "}\n",
       "\n",
       "/* On hover, darken the color of the background */\n",
       "#sk-container-id-1 div.sk-label:hover label.sk-toggleable__label {\n",
       "  color: var(--sklearn-color-text);\n",
       "  background-color: var(--sklearn-color-unfitted-level-2);\n",
       "}\n",
       "\n",
       "/* Label box, darken color on hover, fitted */\n",
       "#sk-container-id-1 div.sk-label.fitted:hover label.sk-toggleable__label.fitted {\n",
       "  color: var(--sklearn-color-text);\n",
       "  background-color: var(--sklearn-color-fitted-level-2);\n",
       "}\n",
       "\n",
       "/* Estimator label */\n",
       "\n",
       "#sk-container-id-1 div.sk-label label {\n",
       "  font-family: monospace;\n",
       "  font-weight: bold;\n",
       "  display: inline-block;\n",
       "  line-height: 1.2em;\n",
       "}\n",
       "\n",
       "#sk-container-id-1 div.sk-label-container {\n",
       "  text-align: center;\n",
       "}\n",
       "\n",
       "/* Estimator-specific */\n",
       "#sk-container-id-1 div.sk-estimator {\n",
       "  font-family: monospace;\n",
       "  border: 1px dotted var(--sklearn-color-border-box);\n",
       "  border-radius: 0.25em;\n",
       "  box-sizing: border-box;\n",
       "  margin-bottom: 0.5em;\n",
       "  /* unfitted */\n",
       "  background-color: var(--sklearn-color-unfitted-level-0);\n",
       "}\n",
       "\n",
       "#sk-container-id-1 div.sk-estimator.fitted {\n",
       "  /* fitted */\n",
       "  background-color: var(--sklearn-color-fitted-level-0);\n",
       "}\n",
       "\n",
       "/* on hover */\n",
       "#sk-container-id-1 div.sk-estimator:hover {\n",
       "  /* unfitted */\n",
       "  background-color: var(--sklearn-color-unfitted-level-2);\n",
       "}\n",
       "\n",
       "#sk-container-id-1 div.sk-estimator.fitted:hover {\n",
       "  /* fitted */\n",
       "  background-color: var(--sklearn-color-fitted-level-2);\n",
       "}\n",
       "\n",
       "/* Specification for estimator info (e.g. \"i\" and \"?\") */\n",
       "\n",
       "/* Common style for \"i\" and \"?\" */\n",
       "\n",
       ".sk-estimator-doc-link,\n",
       "a:link.sk-estimator-doc-link,\n",
       "a:visited.sk-estimator-doc-link {\n",
       "  float: right;\n",
       "  font-size: smaller;\n",
       "  line-height: 1em;\n",
       "  font-family: monospace;\n",
       "  background-color: var(--sklearn-color-background);\n",
       "  border-radius: 1em;\n",
       "  height: 1em;\n",
       "  width: 1em;\n",
       "  text-decoration: none !important;\n",
       "  margin-left: 1ex;\n",
       "  /* unfitted */\n",
       "  border: var(--sklearn-color-unfitted-level-1) 1pt solid;\n",
       "  color: var(--sklearn-color-unfitted-level-1);\n",
       "}\n",
       "\n",
       ".sk-estimator-doc-link.fitted,\n",
       "a:link.sk-estimator-doc-link.fitted,\n",
       "a:visited.sk-estimator-doc-link.fitted {\n",
       "  /* fitted */\n",
       "  border: var(--sklearn-color-fitted-level-1) 1pt solid;\n",
       "  color: var(--sklearn-color-fitted-level-1);\n",
       "}\n",
       "\n",
       "/* On hover */\n",
       "div.sk-estimator:hover .sk-estimator-doc-link:hover,\n",
       ".sk-estimator-doc-link:hover,\n",
       "div.sk-label-container:hover .sk-estimator-doc-link:hover,\n",
       ".sk-estimator-doc-link:hover {\n",
       "  /* unfitted */\n",
       "  background-color: var(--sklearn-color-unfitted-level-3);\n",
       "  color: var(--sklearn-color-background);\n",
       "  text-decoration: none;\n",
       "}\n",
       "\n",
       "div.sk-estimator.fitted:hover .sk-estimator-doc-link.fitted:hover,\n",
       ".sk-estimator-doc-link.fitted:hover,\n",
       "div.sk-label-container:hover .sk-estimator-doc-link.fitted:hover,\n",
       ".sk-estimator-doc-link.fitted:hover {\n",
       "  /* fitted */\n",
       "  background-color: var(--sklearn-color-fitted-level-3);\n",
       "  color: var(--sklearn-color-background);\n",
       "  text-decoration: none;\n",
       "}\n",
       "\n",
       "/* Span, style for the box shown on hovering the info icon */\n",
       ".sk-estimator-doc-link span {\n",
       "  display: none;\n",
       "  z-index: 9999;\n",
       "  position: relative;\n",
       "  font-weight: normal;\n",
       "  right: .2ex;\n",
       "  padding: .5ex;\n",
       "  margin: .5ex;\n",
       "  width: min-content;\n",
       "  min-width: 20ex;\n",
       "  max-width: 50ex;\n",
       "  color: var(--sklearn-color-text);\n",
       "  box-shadow: 2pt 2pt 4pt #999;\n",
       "  /* unfitted */\n",
       "  background: var(--sklearn-color-unfitted-level-0);\n",
       "  border: .5pt solid var(--sklearn-color-unfitted-level-3);\n",
       "}\n",
       "\n",
       ".sk-estimator-doc-link.fitted span {\n",
       "  /* fitted */\n",
       "  background: var(--sklearn-color-fitted-level-0);\n",
       "  border: var(--sklearn-color-fitted-level-3);\n",
       "}\n",
       "\n",
       ".sk-estimator-doc-link:hover span {\n",
       "  display: block;\n",
       "}\n",
       "\n",
       "/* \"?\"-specific style due to the `<a>` HTML tag */\n",
       "\n",
       "#sk-container-id-1 a.estimator_doc_link {\n",
       "  float: right;\n",
       "  font-size: 1rem;\n",
       "  line-height: 1em;\n",
       "  font-family: monospace;\n",
       "  background-color: var(--sklearn-color-background);\n",
       "  border-radius: 1rem;\n",
       "  height: 1rem;\n",
       "  width: 1rem;\n",
       "  text-decoration: none;\n",
       "  /* unfitted */\n",
       "  color: var(--sklearn-color-unfitted-level-1);\n",
       "  border: var(--sklearn-color-unfitted-level-1) 1pt solid;\n",
       "}\n",
       "\n",
       "#sk-container-id-1 a.estimator_doc_link.fitted {\n",
       "  /* fitted */\n",
       "  border: var(--sklearn-color-fitted-level-1) 1pt solid;\n",
       "  color: var(--sklearn-color-fitted-level-1);\n",
       "}\n",
       "\n",
       "/* On hover */\n",
       "#sk-container-id-1 a.estimator_doc_link:hover {\n",
       "  /* unfitted */\n",
       "  background-color: var(--sklearn-color-unfitted-level-3);\n",
       "  color: var(--sklearn-color-background);\n",
       "  text-decoration: none;\n",
       "}\n",
       "\n",
       "#sk-container-id-1 a.estimator_doc_link.fitted:hover {\n",
       "  /* fitted */\n",
       "  background-color: var(--sklearn-color-fitted-level-3);\n",
       "}\n",
       "</style><div id=\"sk-container-id-1\" class=\"sk-top-container\"><div class=\"sk-text-repr-fallback\"><pre>DecisionTreeRegressor(max_depth=1, random_state=123)</pre><b>In a Jupyter environment, please rerun this cell to show the HTML representation or trust the notebook. <br />On GitHub, the HTML representation is unable to render, please try loading this page with nbviewer.org.</b></div><div class=\"sk-container\" hidden><div class=\"sk-item\"><div class=\"sk-estimator fitted sk-toggleable\"><input class=\"sk-toggleable__control sk-hidden--visually\" id=\"sk-estimator-id-1\" type=\"checkbox\" checked><label for=\"sk-estimator-id-1\" class=\"sk-toggleable__label fitted sk-toggleable__label-arrow fitted\">&nbsp;&nbsp;DecisionTreeRegressor<a class=\"sk-estimator-doc-link fitted\" rel=\"noreferrer\" target=\"_blank\" href=\"https://scikit-learn.org/1.5/modules/generated/sklearn.tree.DecisionTreeRegressor.html\">?<span>Documentation for DecisionTreeRegressor</span></a><span class=\"sk-estimator-doc-link fitted\">i<span>Fitted</span></span></label><div class=\"sk-toggleable__content fitted\"><pre>DecisionTreeRegressor(max_depth=1, random_state=123)</pre></div> </div></div></div></div>"
      ],
      "text/plain": [
       "DecisionTreeRegressor(max_depth=1, random_state=123)"
      ]
     },
     "execution_count": 20,
     "metadata": {},
     "output_type": "execute_result"
    }
   ],
=======
   "execution_count": null,
   "metadata": {},
   "outputs": [],
>>>>>>> parent of fc4de9d (Merge branch 'main' of https://github.com/UBC-CS/cpsc330-2024W1)
   "source": [
    "# max_depth= 1 \n",
    "dt = DecisionTreeRegressor(max_depth=1, random_state=123) \n",
    "dt.fit(X_train, y_train)"
   ]
  },
  {
   "cell_type": "code",
<<<<<<< HEAD
   "execution_count": 21,
   "metadata": {},
   "outputs": [
    {
     "data": {
      "image/png": "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",
      "text/plain": [
       "<Figure size 640x480 with 1 Axes>"
      ]
     },
     "metadata": {},
     "output_type": "display_data"
    }
   ],
=======
   "execution_count": null,
   "metadata": {},
   "outputs": [],
>>>>>>> parent of fc4de9d (Merge branch 'main' of https://github.com/UBC-CS/cpsc330-2024W1)
   "source": [
    "# Visualize your decision stump\n",
    "from sklearn.tree import plot_tree \n",
    "plot_tree(dt, feature_names = X.columns.tolist(), impurity=False, filled=True, fontsize=10);"
   ]
  },
  {
   "cell_type": "code",
<<<<<<< HEAD
   "execution_count": 22,
   "metadata": {},
   "outputs": [
    {
     "data": {
      "text/plain": [
       "0.3209427041566191"
      ]
     },
     "execution_count": 22,
     "metadata": {},
     "output_type": "execute_result"
    }
   ],
=======
   "execution_count": null,
   "metadata": {},
   "outputs": [],
>>>>>>> parent of fc4de9d (Merge branch 'main' of https://github.com/UBC-CS/cpsc330-2024W1)
   "source": [
    "dt.score(X_train, y_train) # Score on the train set"
   ]
  },
  {
   "cell_type": "code",
<<<<<<< HEAD
   "execution_count": 23,
   "metadata": {},
   "outputs": [
    {
     "data": {
      "text/plain": [
       "0.31767136668453344"
      ]
     },
     "execution_count": 23,
     "metadata": {},
     "output_type": "execute_result"
    }
   ],
=======
   "execution_count": null,
   "metadata": {},
   "outputs": [],
>>>>>>> parent of fc4de9d (Merge branch 'main' of https://github.com/UBC-CS/cpsc330-2024W1)
   "source": [
    "dt.score(X_test, y_test) # Score on the test set"
   ]
  },
  {
   "cell_type": "markdown",
   "metadata": {},
   "source": [
    "- How do these scores compare to the previous scores? "
   ]
  },
  {
   "cell_type": "markdown",
   "metadata": {},
   "source": [
<<<<<<< HEAD
    "We are underfitting."
   ]
  },
  {
   "cell_type": "markdown",
   "metadata": {},
   "source": [
=======
>>>>>>> parent of fc4de9d (Merge branch 'main' of https://github.com/UBC-CS/cpsc330-2024W1)
    "Let's try depth 10. "
   ]
  },
  {
   "cell_type": "code",
<<<<<<< HEAD
   "execution_count": 24,
   "metadata": {},
   "outputs": [
    {
     "data": {
      "text/html": [
       "<style>#sk-container-id-2 {\n",
       "  /* Definition of color scheme common for light and dark mode */\n",
       "  --sklearn-color-text: black;\n",
       "  --sklearn-color-line: gray;\n",
       "  /* Definition of color scheme for unfitted estimators */\n",
       "  --sklearn-color-unfitted-level-0: #fff5e6;\n",
       "  --sklearn-color-unfitted-level-1: #f6e4d2;\n",
       "  --sklearn-color-unfitted-level-2: #ffe0b3;\n",
       "  --sklearn-color-unfitted-level-3: chocolate;\n",
       "  /* Definition of color scheme for fitted estimators */\n",
       "  --sklearn-color-fitted-level-0: #f0f8ff;\n",
       "  --sklearn-color-fitted-level-1: #d4ebff;\n",
       "  --sklearn-color-fitted-level-2: #b3dbfd;\n",
       "  --sklearn-color-fitted-level-3: cornflowerblue;\n",
       "\n",
       "  /* Specific color for light theme */\n",
       "  --sklearn-color-text-on-default-background: var(--sg-text-color, var(--theme-code-foreground, var(--jp-content-font-color1, black)));\n",
       "  --sklearn-color-background: var(--sg-background-color, var(--theme-background, var(--jp-layout-color0, white)));\n",
       "  --sklearn-color-border-box: var(--sg-text-color, var(--theme-code-foreground, var(--jp-content-font-color1, black)));\n",
       "  --sklearn-color-icon: #696969;\n",
       "\n",
       "  @media (prefers-color-scheme: dark) {\n",
       "    /* Redefinition of color scheme for dark theme */\n",
       "    --sklearn-color-text-on-default-background: var(--sg-text-color, var(--theme-code-foreground, var(--jp-content-font-color1, white)));\n",
       "    --sklearn-color-background: var(--sg-background-color, var(--theme-background, var(--jp-layout-color0, #111)));\n",
       "    --sklearn-color-border-box: var(--sg-text-color, var(--theme-code-foreground, var(--jp-content-font-color1, white)));\n",
       "    --sklearn-color-icon: #878787;\n",
       "  }\n",
       "}\n",
       "\n",
       "#sk-container-id-2 {\n",
       "  color: var(--sklearn-color-text);\n",
       "}\n",
       "\n",
       "#sk-container-id-2 pre {\n",
       "  padding: 0;\n",
       "}\n",
       "\n",
       "#sk-container-id-2 input.sk-hidden--visually {\n",
       "  border: 0;\n",
       "  clip: rect(1px 1px 1px 1px);\n",
       "  clip: rect(1px, 1px, 1px, 1px);\n",
       "  height: 1px;\n",
       "  margin: -1px;\n",
       "  overflow: hidden;\n",
       "  padding: 0;\n",
       "  position: absolute;\n",
       "  width: 1px;\n",
       "}\n",
       "\n",
       "#sk-container-id-2 div.sk-dashed-wrapped {\n",
       "  border: 1px dashed var(--sklearn-color-line);\n",
       "  margin: 0 0.4em 0.5em 0.4em;\n",
       "  box-sizing: border-box;\n",
       "  padding-bottom: 0.4em;\n",
       "  background-color: var(--sklearn-color-background);\n",
       "}\n",
       "\n",
       "#sk-container-id-2 div.sk-container {\n",
       "  /* jupyter's `normalize.less` sets `[hidden] { display: none; }`\n",
       "     but bootstrap.min.css set `[hidden] { display: none !important; }`\n",
       "     so we also need the `!important` here to be able to override the\n",
       "     default hidden behavior on the sphinx rendered scikit-learn.org.\n",
       "     See: https://github.com/scikit-learn/scikit-learn/issues/21755 */\n",
       "  display: inline-block !important;\n",
       "  position: relative;\n",
       "}\n",
       "\n",
       "#sk-container-id-2 div.sk-text-repr-fallback {\n",
       "  display: none;\n",
       "}\n",
       "\n",
       "div.sk-parallel-item,\n",
       "div.sk-serial,\n",
       "div.sk-item {\n",
       "  /* draw centered vertical line to link estimators */\n",
       "  background-image: linear-gradient(var(--sklearn-color-text-on-default-background), var(--sklearn-color-text-on-default-background));\n",
       "  background-size: 2px 100%;\n",
       "  background-repeat: no-repeat;\n",
       "  background-position: center center;\n",
       "}\n",
       "\n",
       "/* Parallel-specific style estimator block */\n",
       "\n",
       "#sk-container-id-2 div.sk-parallel-item::after {\n",
       "  content: \"\";\n",
       "  width: 100%;\n",
       "  border-bottom: 2px solid var(--sklearn-color-text-on-default-background);\n",
       "  flex-grow: 1;\n",
       "}\n",
       "\n",
       "#sk-container-id-2 div.sk-parallel {\n",
       "  display: flex;\n",
       "  align-items: stretch;\n",
       "  justify-content: center;\n",
       "  background-color: var(--sklearn-color-background);\n",
       "  position: relative;\n",
       "}\n",
       "\n",
       "#sk-container-id-2 div.sk-parallel-item {\n",
       "  display: flex;\n",
       "  flex-direction: column;\n",
       "}\n",
       "\n",
       "#sk-container-id-2 div.sk-parallel-item:first-child::after {\n",
       "  align-self: flex-end;\n",
       "  width: 50%;\n",
       "}\n",
       "\n",
       "#sk-container-id-2 div.sk-parallel-item:last-child::after {\n",
       "  align-self: flex-start;\n",
       "  width: 50%;\n",
       "}\n",
       "\n",
       "#sk-container-id-2 div.sk-parallel-item:only-child::after {\n",
       "  width: 0;\n",
       "}\n",
       "\n",
       "/* Serial-specific style estimator block */\n",
       "\n",
       "#sk-container-id-2 div.sk-serial {\n",
       "  display: flex;\n",
       "  flex-direction: column;\n",
       "  align-items: center;\n",
       "  background-color: var(--sklearn-color-background);\n",
       "  padding-right: 1em;\n",
       "  padding-left: 1em;\n",
       "}\n",
       "\n",
       "\n",
       "/* Toggleable style: style used for estimator/Pipeline/ColumnTransformer box that is\n",
       "clickable and can be expanded/collapsed.\n",
       "- Pipeline and ColumnTransformer use this feature and define the default style\n",
       "- Estimators will overwrite some part of the style using the `sk-estimator` class\n",
       "*/\n",
       "\n",
       "/* Pipeline and ColumnTransformer style (default) */\n",
       "\n",
       "#sk-container-id-2 div.sk-toggleable {\n",
       "  /* Default theme specific background. It is overwritten whether we have a\n",
       "  specific estimator or a Pipeline/ColumnTransformer */\n",
       "  background-color: var(--sklearn-color-background);\n",
       "}\n",
       "\n",
       "/* Toggleable label */\n",
       "#sk-container-id-2 label.sk-toggleable__label {\n",
       "  cursor: pointer;\n",
       "  display: block;\n",
       "  width: 100%;\n",
       "  margin-bottom: 0;\n",
       "  padding: 0.5em;\n",
       "  box-sizing: border-box;\n",
       "  text-align: center;\n",
       "}\n",
       "\n",
       "#sk-container-id-2 label.sk-toggleable__label-arrow:before {\n",
       "  /* Arrow on the left of the label */\n",
       "  content: \"▸\";\n",
       "  float: left;\n",
       "  margin-right: 0.25em;\n",
       "  color: var(--sklearn-color-icon);\n",
       "}\n",
       "\n",
       "#sk-container-id-2 label.sk-toggleable__label-arrow:hover:before {\n",
       "  color: var(--sklearn-color-text);\n",
       "}\n",
       "\n",
       "/* Toggleable content - dropdown */\n",
       "\n",
       "#sk-container-id-2 div.sk-toggleable__content {\n",
       "  max-height: 0;\n",
       "  max-width: 0;\n",
       "  overflow: hidden;\n",
       "  text-align: left;\n",
       "  /* unfitted */\n",
       "  background-color: var(--sklearn-color-unfitted-level-0);\n",
       "}\n",
       "\n",
       "#sk-container-id-2 div.sk-toggleable__content.fitted {\n",
       "  /* fitted */\n",
       "  background-color: var(--sklearn-color-fitted-level-0);\n",
       "}\n",
       "\n",
       "#sk-container-id-2 div.sk-toggleable__content pre {\n",
       "  margin: 0.2em;\n",
       "  border-radius: 0.25em;\n",
       "  color: var(--sklearn-color-text);\n",
       "  /* unfitted */\n",
       "  background-color: var(--sklearn-color-unfitted-level-0);\n",
       "}\n",
       "\n",
       "#sk-container-id-2 div.sk-toggleable__content.fitted pre {\n",
       "  /* unfitted */\n",
       "  background-color: var(--sklearn-color-fitted-level-0);\n",
       "}\n",
       "\n",
       "#sk-container-id-2 input.sk-toggleable__control:checked~div.sk-toggleable__content {\n",
       "  /* Expand drop-down */\n",
       "  max-height: 200px;\n",
       "  max-width: 100%;\n",
       "  overflow: auto;\n",
       "}\n",
       "\n",
       "#sk-container-id-2 input.sk-toggleable__control:checked~label.sk-toggleable__label-arrow:before {\n",
       "  content: \"▾\";\n",
       "}\n",
       "\n",
       "/* Pipeline/ColumnTransformer-specific style */\n",
       "\n",
       "#sk-container-id-2 div.sk-label input.sk-toggleable__control:checked~label.sk-toggleable__label {\n",
       "  color: var(--sklearn-color-text);\n",
       "  background-color: var(--sklearn-color-unfitted-level-2);\n",
       "}\n",
       "\n",
       "#sk-container-id-2 div.sk-label.fitted input.sk-toggleable__control:checked~label.sk-toggleable__label {\n",
       "  background-color: var(--sklearn-color-fitted-level-2);\n",
       "}\n",
       "\n",
       "/* Estimator-specific style */\n",
       "\n",
       "/* Colorize estimator box */\n",
       "#sk-container-id-2 div.sk-estimator input.sk-toggleable__control:checked~label.sk-toggleable__label {\n",
       "  /* unfitted */\n",
       "  background-color: var(--sklearn-color-unfitted-level-2);\n",
       "}\n",
       "\n",
       "#sk-container-id-2 div.sk-estimator.fitted input.sk-toggleable__control:checked~label.sk-toggleable__label {\n",
       "  /* fitted */\n",
       "  background-color: var(--sklearn-color-fitted-level-2);\n",
       "}\n",
       "\n",
       "#sk-container-id-2 div.sk-label label.sk-toggleable__label,\n",
       "#sk-container-id-2 div.sk-label label {\n",
       "  /* The background is the default theme color */\n",
       "  color: var(--sklearn-color-text-on-default-background);\n",
       "}\n",
       "\n",
       "/* On hover, darken the color of the background */\n",
       "#sk-container-id-2 div.sk-label:hover label.sk-toggleable__label {\n",
       "  color: var(--sklearn-color-text);\n",
       "  background-color: var(--sklearn-color-unfitted-level-2);\n",
       "}\n",
       "\n",
       "/* Label box, darken color on hover, fitted */\n",
       "#sk-container-id-2 div.sk-label.fitted:hover label.sk-toggleable__label.fitted {\n",
       "  color: var(--sklearn-color-text);\n",
       "  background-color: var(--sklearn-color-fitted-level-2);\n",
       "}\n",
       "\n",
       "/* Estimator label */\n",
       "\n",
       "#sk-container-id-2 div.sk-label label {\n",
       "  font-family: monospace;\n",
       "  font-weight: bold;\n",
       "  display: inline-block;\n",
       "  line-height: 1.2em;\n",
       "}\n",
       "\n",
       "#sk-container-id-2 div.sk-label-container {\n",
       "  text-align: center;\n",
       "}\n",
       "\n",
       "/* Estimator-specific */\n",
       "#sk-container-id-2 div.sk-estimator {\n",
       "  font-family: monospace;\n",
       "  border: 1px dotted var(--sklearn-color-border-box);\n",
       "  border-radius: 0.25em;\n",
       "  box-sizing: border-box;\n",
       "  margin-bottom: 0.5em;\n",
       "  /* unfitted */\n",
       "  background-color: var(--sklearn-color-unfitted-level-0);\n",
       "}\n",
       "\n",
       "#sk-container-id-2 div.sk-estimator.fitted {\n",
       "  /* fitted */\n",
       "  background-color: var(--sklearn-color-fitted-level-0);\n",
       "}\n",
       "\n",
       "/* on hover */\n",
       "#sk-container-id-2 div.sk-estimator:hover {\n",
       "  /* unfitted */\n",
       "  background-color: var(--sklearn-color-unfitted-level-2);\n",
       "}\n",
       "\n",
       "#sk-container-id-2 div.sk-estimator.fitted:hover {\n",
       "  /* fitted */\n",
       "  background-color: var(--sklearn-color-fitted-level-2);\n",
       "}\n",
       "\n",
       "/* Specification for estimator info (e.g. \"i\" and \"?\") */\n",
       "\n",
       "/* Common style for \"i\" and \"?\" */\n",
       "\n",
       ".sk-estimator-doc-link,\n",
       "a:link.sk-estimator-doc-link,\n",
       "a:visited.sk-estimator-doc-link {\n",
       "  float: right;\n",
       "  font-size: smaller;\n",
       "  line-height: 1em;\n",
       "  font-family: monospace;\n",
       "  background-color: var(--sklearn-color-background);\n",
       "  border-radius: 1em;\n",
       "  height: 1em;\n",
       "  width: 1em;\n",
       "  text-decoration: none !important;\n",
       "  margin-left: 1ex;\n",
       "  /* unfitted */\n",
       "  border: var(--sklearn-color-unfitted-level-1) 1pt solid;\n",
       "  color: var(--sklearn-color-unfitted-level-1);\n",
       "}\n",
       "\n",
       ".sk-estimator-doc-link.fitted,\n",
       "a:link.sk-estimator-doc-link.fitted,\n",
       "a:visited.sk-estimator-doc-link.fitted {\n",
       "  /* fitted */\n",
       "  border: var(--sklearn-color-fitted-level-1) 1pt solid;\n",
       "  color: var(--sklearn-color-fitted-level-1);\n",
       "}\n",
       "\n",
       "/* On hover */\n",
       "div.sk-estimator:hover .sk-estimator-doc-link:hover,\n",
       ".sk-estimator-doc-link:hover,\n",
       "div.sk-label-container:hover .sk-estimator-doc-link:hover,\n",
       ".sk-estimator-doc-link:hover {\n",
       "  /* unfitted */\n",
       "  background-color: var(--sklearn-color-unfitted-level-3);\n",
       "  color: var(--sklearn-color-background);\n",
       "  text-decoration: none;\n",
       "}\n",
       "\n",
       "div.sk-estimator.fitted:hover .sk-estimator-doc-link.fitted:hover,\n",
       ".sk-estimator-doc-link.fitted:hover,\n",
       "div.sk-label-container:hover .sk-estimator-doc-link.fitted:hover,\n",
       ".sk-estimator-doc-link.fitted:hover {\n",
       "  /* fitted */\n",
       "  background-color: var(--sklearn-color-fitted-level-3);\n",
       "  color: var(--sklearn-color-background);\n",
       "  text-decoration: none;\n",
       "}\n",
       "\n",
       "/* Span, style for the box shown on hovering the info icon */\n",
       ".sk-estimator-doc-link span {\n",
       "  display: none;\n",
       "  z-index: 9999;\n",
       "  position: relative;\n",
       "  font-weight: normal;\n",
       "  right: .2ex;\n",
       "  padding: .5ex;\n",
       "  margin: .5ex;\n",
       "  width: min-content;\n",
       "  min-width: 20ex;\n",
       "  max-width: 50ex;\n",
       "  color: var(--sklearn-color-text);\n",
       "  box-shadow: 2pt 2pt 4pt #999;\n",
       "  /* unfitted */\n",
       "  background: var(--sklearn-color-unfitted-level-0);\n",
       "  border: .5pt solid var(--sklearn-color-unfitted-level-3);\n",
       "}\n",
       "\n",
       ".sk-estimator-doc-link.fitted span {\n",
       "  /* fitted */\n",
       "  background: var(--sklearn-color-fitted-level-0);\n",
       "  border: var(--sklearn-color-fitted-level-3);\n",
       "}\n",
       "\n",
       ".sk-estimator-doc-link:hover span {\n",
       "  display: block;\n",
       "}\n",
       "\n",
       "/* \"?\"-specific style due to the `<a>` HTML tag */\n",
       "\n",
       "#sk-container-id-2 a.estimator_doc_link {\n",
       "  float: right;\n",
       "  font-size: 1rem;\n",
       "  line-height: 1em;\n",
       "  font-family: monospace;\n",
       "  background-color: var(--sklearn-color-background);\n",
       "  border-radius: 1rem;\n",
       "  height: 1rem;\n",
       "  width: 1rem;\n",
       "  text-decoration: none;\n",
       "  /* unfitted */\n",
       "  color: var(--sklearn-color-unfitted-level-1);\n",
       "  border: var(--sklearn-color-unfitted-level-1) 1pt solid;\n",
       "}\n",
       "\n",
       "#sk-container-id-2 a.estimator_doc_link.fitted {\n",
       "  /* fitted */\n",
       "  border: var(--sklearn-color-fitted-level-1) 1pt solid;\n",
       "  color: var(--sklearn-color-fitted-level-1);\n",
       "}\n",
       "\n",
       "/* On hover */\n",
       "#sk-container-id-2 a.estimator_doc_link:hover {\n",
       "  /* unfitted */\n",
       "  background-color: var(--sklearn-color-unfitted-level-3);\n",
       "  color: var(--sklearn-color-background);\n",
       "  text-decoration: none;\n",
       "}\n",
       "\n",
       "#sk-container-id-2 a.estimator_doc_link.fitted:hover {\n",
       "  /* fitted */\n",
       "  background-color: var(--sklearn-color-fitted-level-3);\n",
       "}\n",
       "</style><div id=\"sk-container-id-2\" class=\"sk-top-container\"><div class=\"sk-text-repr-fallback\"><pre>DecisionTreeRegressor(max_depth=10, random_state=123)</pre><b>In a Jupyter environment, please rerun this cell to show the HTML representation or trust the notebook. <br />On GitHub, the HTML representation is unable to render, please try loading this page with nbviewer.org.</b></div><div class=\"sk-container\" hidden><div class=\"sk-item\"><div class=\"sk-estimator fitted sk-toggleable\"><input class=\"sk-toggleable__control sk-hidden--visually\" id=\"sk-estimator-id-2\" type=\"checkbox\" checked><label for=\"sk-estimator-id-2\" class=\"sk-toggleable__label fitted sk-toggleable__label-arrow fitted\">&nbsp;&nbsp;DecisionTreeRegressor<a class=\"sk-estimator-doc-link fitted\" rel=\"noreferrer\" target=\"_blank\" href=\"https://scikit-learn.org/1.5/modules/generated/sklearn.tree.DecisionTreeRegressor.html\">?<span>Documentation for DecisionTreeRegressor</span></a><span class=\"sk-estimator-doc-link fitted\">i<span>Fitted</span></span></label><div class=\"sk-toggleable__content fitted\"><pre>DecisionTreeRegressor(max_depth=10, random_state=123)</pre></div> </div></div></div></div>"
      ],
      "text/plain": [
       "DecisionTreeRegressor(max_depth=10, random_state=123)"
      ]
     },
     "execution_count": 24,
     "metadata": {},
     "output_type": "execute_result"
    }
   ],
=======
   "execution_count": null,
   "metadata": {},
   "outputs": [],
>>>>>>> parent of fc4de9d (Merge branch 'main' of https://github.com/UBC-CS/cpsc330-2024W1)
   "source": [
    "dt = DecisionTreeRegressor(max_depth=10, random_state=123) # max_depth= 10 \n",
    "dt.fit(X_train, y_train)"
   ]
  },
  {
   "cell_type": "code",
<<<<<<< HEAD
   "execution_count": 25,
   "metadata": {},
   "outputs": [
    {
     "data": {
      "text/plain": [
       "0.9108334653214172"
      ]
     },
     "execution_count": 25,
     "metadata": {},
     "output_type": "execute_result"
    }
   ],
=======
   "execution_count": null,
   "metadata": {},
   "outputs": [],
>>>>>>> parent of fc4de9d (Merge branch 'main' of https://github.com/UBC-CS/cpsc330-2024W1)
   "source": [
    "dt.score(X_train, y_train) # Score on the train set"
   ]
  },
  {
   "cell_type": "code",
<<<<<<< HEAD
   "execution_count": 26,
   "metadata": {},
   "outputs": [
    {
     "data": {
      "text/plain": [
       "0.7728396574320712"
      ]
     },
     "execution_count": 26,
     "metadata": {},
     "output_type": "execute_result"
    }
   ],
=======
   "execution_count": null,
   "metadata": {},
   "outputs": [],
>>>>>>> parent of fc4de9d (Merge branch 'main' of https://github.com/UBC-CS/cpsc330-2024W1)
   "source": [
    "dt.score(X_test, y_test) # Score on the test set"
   ]
  },
  {
   "cell_type": "markdown",
   "metadata": {},
   "source": [
    "Any improvements? Which depth should we pick? "
   ]
  },
  {
   "cell_type": "markdown",
   "metadata": {},
   "source": [
<<<<<<< HEAD
    "We should pick depth 10"
   ]
  },
  {
   "cell_type": "markdown",
   "metadata": {},
   "source": [
=======
>>>>>>> parent of fc4de9d (Merge branch 'main' of https://github.com/UBC-CS/cpsc330-2024W1)
    "<br><br>"
   ]
  },
  {
   "cell_type": "markdown",
   "metadata": {},
   "source": [
    "## Single validation set"
   ]
  },
  {
   "cell_type": "markdown",
   "metadata": {},
   "source": [
    "We are using the test data again and again. How about creating a validation set to pick the right depth and assessing the final model on the test set?   "
   ]
  },
  {
   "cell_type": "code",
<<<<<<< HEAD
   "execution_count": 27,
=======
   "execution_count": null,
>>>>>>> parent of fc4de9d (Merge branch 'main' of https://github.com/UBC-CS/cpsc330-2024W1)
   "metadata": {},
   "outputs": [],
   "source": [
    "# Create a validation set \n",
    "X_tr, X_valid, y_tr, y_valid = train_test_split(X_train, y_train, test_size=0.2, random_state=123)"
   ]
  },
  {
   "cell_type": "code",
<<<<<<< HEAD
   "execution_count": 28,
   "metadata": {},
   "outputs": [
    {
     "data": {
      "text/html": [
       "<div>\n",
       "<style scoped>\n",
       "    .dataframe tbody tr th:only-of-type {\n",
       "        vertical-align: middle;\n",
       "    }\n",
       "\n",
       "    .dataframe tbody tr th {\n",
       "        vertical-align: top;\n",
       "    }\n",
       "\n",
       "    .dataframe thead th {\n",
       "        text-align: right;\n",
       "    }\n",
       "</style>\n",
       "<table border=\"1\" class=\"dataframe\">\n",
       "  <thead>\n",
       "    <tr style=\"text-align: right;\">\n",
       "      <th></th>\n",
       "      <th>train_score</th>\n",
       "      <th>valid_score</th>\n",
       "    </tr>\n",
       "  </thead>\n",
       "  <tbody>\n",
       "    <tr>\n",
       "      <th>1</th>\n",
       "      <td>0.319559</td>\n",
       "      <td>0.326616</td>\n",
       "    </tr>\n",
       "    <tr>\n",
       "      <th>3</th>\n",
       "      <td>0.603739</td>\n",
       "      <td>0.555180</td>\n",
       "    </tr>\n",
       "    <tr>\n",
       "      <th>5</th>\n",
       "      <td>0.754938</td>\n",
       "      <td>0.677567</td>\n",
       "    </tr>\n",
       "    <tr>\n",
       "      <th>7</th>\n",
       "      <td>0.833913</td>\n",
       "      <td>0.737285</td>\n",
       "    </tr>\n",
       "    <tr>\n",
       "      <th>9</th>\n",
       "      <td>0.890456</td>\n",
       "      <td>0.763480</td>\n",
       "    </tr>\n",
       "    <tr>\n",
       "      <th>11</th>\n",
       "      <td>0.931896</td>\n",
       "      <td>0.790521</td>\n",
       "    </tr>\n",
       "    <tr>\n",
       "      <th>13</th>\n",
       "      <td>0.963024</td>\n",
       "      <td>0.769030</td>\n",
       "    </tr>\n",
       "    <tr>\n",
       "      <th>15</th>\n",
       "      <td>0.981643</td>\n",
       "      <td>0.752728</td>\n",
       "    </tr>\n",
       "    <tr>\n",
       "      <th>17</th>\n",
       "      <td>0.991810</td>\n",
       "      <td>0.735637</td>\n",
       "    </tr>\n",
       "    <tr>\n",
       "      <th>19</th>\n",
       "      <td>0.996424</td>\n",
       "      <td>0.745925</td>\n",
       "    </tr>\n",
       "    <tr>\n",
       "      <th>21</th>\n",
       "      <td>0.998370</td>\n",
       "      <td>0.734048</td>\n",
       "    </tr>\n",
       "    <tr>\n",
       "      <th>23</th>\n",
       "      <td>0.999213</td>\n",
       "      <td>0.741060</td>\n",
       "    </tr>\n",
       "    <tr>\n",
       "      <th>25</th>\n",
       "      <td>0.999480</td>\n",
       "      <td>0.722873</td>\n",
       "    </tr>\n",
       "    <tr>\n",
       "      <th>27</th>\n",
       "      <td>0.999544</td>\n",
       "      <td>0.723951</td>\n",
       "    </tr>\n",
       "    <tr>\n",
       "      <th>29</th>\n",
       "      <td>0.999558</td>\n",
       "      <td>0.734986</td>\n",
       "    </tr>\n",
       "    <tr>\n",
       "      <th>31</th>\n",
       "      <td>0.999562</td>\n",
       "      <td>0.724068</td>\n",
       "    </tr>\n",
       "    <tr>\n",
       "      <th>33</th>\n",
       "      <td>0.999567</td>\n",
       "      <td>0.724410</td>\n",
       "    </tr>\n",
       "  </tbody>\n",
       "</table>\n",
       "</div>"
      ],
      "text/plain": [
       "    train_score  valid_score\n",
       "1      0.319559     0.326616\n",
       "3      0.603739     0.555180\n",
       "5      0.754938     0.677567\n",
       "7      0.833913     0.737285\n",
       "9      0.890456     0.763480\n",
       "11     0.931896     0.790521\n",
       "13     0.963024     0.769030\n",
       "15     0.981643     0.752728\n",
       "17     0.991810     0.735637\n",
       "19     0.996424     0.745925\n",
       "21     0.998370     0.734048\n",
       "23     0.999213     0.741060\n",
       "25     0.999480     0.722873\n",
       "27     0.999544     0.723951\n",
       "29     0.999558     0.734986\n",
       "31     0.999562     0.724068\n",
       "33     0.999567     0.724410"
      ]
     },
     "execution_count": 28,
     "metadata": {},
     "output_type": "execute_result"
    }
   ],
=======
   "execution_count": null,
   "metadata": {},
   "outputs": [],
>>>>>>> parent of fc4de9d (Merge branch 'main' of https://github.com/UBC-CS/cpsc330-2024W1)
   "source": [
    "tr_scores = []\n",
    "valid_scores = []\n",
    "depths = np.arange(1, 35, 2)\n",
    "\n",
    "for depth in depths:  \n",
    "    # Create and fit a decision tree model for the given depth  \n",
    "    dt = DecisionTreeRegressor(max_depth=depth, random_state=123)\n",
<<<<<<< HEAD
    "    dt.fit(X_tr, y_tr)\n",
    "    # Calculate and append r2 scores on the training and validation sets\n",
    "    tr_scores.append(dt.score(X_tr, y_tr))\n",
    "    valid_scores.append(dt.score(X_valid, y_valid))\n",
=======
    "    \n",
    "    # Calculate and append r2 scores on the training and validation sets\n",
    "\n",
>>>>>>> parent of fc4de9d (Merge branch 'main' of https://github.com/UBC-CS/cpsc330-2024W1)
    "    \n",
    "results_single_valid_df = pd.DataFrame({\"train_score\": tr_scores, \n",
    "                           \"valid_score\": valid_scores},index = depths)\n",
    "results_single_valid_df"
   ]
  },
  {
   "cell_type": "code",
<<<<<<< HEAD
   "execution_count": 29,
   "metadata": {},
   "outputs": [
    {
     "data": {
      "image/png": "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",
      "text/plain": [
       "<Figure size 640x480 with 1 Axes>"
      ]
     },
     "metadata": {},
     "output_type": "display_data"
    }
   ],
=======
   "execution_count": null,
   "metadata": {},
   "outputs": [],
>>>>>>> parent of fc4de9d (Merge branch 'main' of https://github.com/UBC-CS/cpsc330-2024W1)
   "source": [
    "results_single_valid_df[['train_score', 'valid_score']].plot(ylabel='r2 scores');"
   ]
  },
  {
   "cell_type": "markdown",
   "metadata": {},
   "source": [
    "What depth gives the \"best\" validation score? "
   ]
  },
  {
   "cell_type": "code",
<<<<<<< HEAD
   "execution_count": 30,
   "metadata": {},
   "outputs": [
    {
     "data": {
      "text/plain": [
       "11"
      ]
     },
     "execution_count": 30,
     "metadata": {},
     "output_type": "execute_result"
    }
   ],
=======
   "execution_count": null,
   "metadata": {},
   "outputs": [],
>>>>>>> parent of fc4de9d (Merge branch 'main' of https://github.com/UBC-CS/cpsc330-2024W1)
   "source": [
    "# What depth gives the \"best\" validation score?\n",
    "best_depth = results_single_valid_df['valid_score'].idxmax() \n",
    "best_depth"
   ]
  },
  {
   "cell_type": "markdown",
   "metadata": {},
   "source": [
    "## Cross-validation"
   ]
  },
  {
   "cell_type": "code",
<<<<<<< HEAD
   "execution_count": 31,
=======
   "execution_count": null,
>>>>>>> parent of fc4de9d (Merge branch 'main' of https://github.com/UBC-CS/cpsc330-2024W1)
   "metadata": {},
   "outputs": [],
   "source": [
    "depths = np.arange(1, 35, 2)\n",
    "\n",
    "cv_train_scores = []\n",
    "cv_valid_scores = []\n",
    "for depth in depths: \n",
    "    # Create and fit a decision tree model for the given depth   \n",
    "    dt = DecisionTreeRegressor(max_depth = depth, random_state=123)\n",
    "\n",
<<<<<<< HEAD
    "    # Carry out cross-validation\n",
    "    results = cross_validate(dt, X_train, y_train, cv = 5, return_train_score = True)\n",
    "    cv_train_scores.append(results[\"train_score\"].mean())\n",
    "    cv_valid_scores.append(results[\"test_score\"].mean())"
=======
    "    # Carry out cross-validation\n"
>>>>>>> parent of fc4de9d (Merge branch 'main' of https://github.com/UBC-CS/cpsc330-2024W1)
   ]
  },
  {
   "cell_type": "code",
<<<<<<< HEAD
   "execution_count": 32,
   "metadata": {},
   "outputs": [
    {
     "data": {
      "text/html": [
       "<div>\n",
       "<style scoped>\n",
       "    .dataframe tbody tr th:only-of-type {\n",
       "        vertical-align: middle;\n",
       "    }\n",
       "\n",
       "    .dataframe tbody tr th {\n",
       "        vertical-align: top;\n",
       "    }\n",
       "\n",
       "    .dataframe thead th {\n",
       "        text-align: right;\n",
       "    }\n",
       "</style>\n",
       "<table border=\"1\" class=\"dataframe\">\n",
       "  <thead>\n",
       "    <tr style=\"text-align: right;\">\n",
       "      <th></th>\n",
       "      <th>train_score</th>\n",
       "      <th>valid_score</th>\n",
       "    </tr>\n",
       "  </thead>\n",
       "  <tbody>\n",
       "    <tr>\n",
       "      <th>1</th>\n",
       "      <td>0.321050</td>\n",
       "      <td>0.322465</td>\n",
       "    </tr>\n",
       "    <tr>\n",
       "      <th>3</th>\n",
       "      <td>0.603243</td>\n",
       "      <td>0.559284</td>\n",
       "    </tr>\n",
       "    <tr>\n",
       "      <th>5</th>\n",
       "      <td>0.752169</td>\n",
       "      <td>0.688484</td>\n",
       "    </tr>\n",
       "    <tr>\n",
       "      <th>7</th>\n",
       "      <td>0.835876</td>\n",
       "      <td>0.758259</td>\n",
       "    </tr>\n",
       "    <tr>\n",
       "      <th>9</th>\n",
       "      <td>0.894960</td>\n",
       "      <td>0.768184</td>\n",
       "    </tr>\n",
       "    <tr>\n",
       "      <th>11</th>\n",
       "      <td>0.938201</td>\n",
       "      <td>0.772185</td>\n",
       "    </tr>\n",
       "    <tr>\n",
       "      <th>13</th>\n",
       "      <td>0.966812</td>\n",
       "      <td>0.760966</td>\n",
       "    </tr>\n",
       "    <tr>\n",
       "      <th>15</th>\n",
       "      <td>0.983340</td>\n",
       "      <td>0.754620</td>\n",
       "    </tr>\n",
       "    <tr>\n",
       "      <th>17</th>\n",
       "      <td>0.992220</td>\n",
       "      <td>0.730025</td>\n",
       "    </tr>\n",
       "    <tr>\n",
       "      <th>19</th>\n",
       "      <td>0.996487</td>\n",
       "      <td>0.722803</td>\n",
       "    </tr>\n",
       "    <tr>\n",
       "      <th>21</th>\n",
       "      <td>0.998440</td>\n",
       "      <td>0.726659</td>\n",
       "    </tr>\n",
       "    <tr>\n",
       "      <th>23</th>\n",
       "      <td>0.999178</td>\n",
       "      <td>0.730704</td>\n",
       "    </tr>\n",
       "    <tr>\n",
       "      <th>25</th>\n",
       "      <td>0.999438</td>\n",
       "      <td>0.711356</td>\n",
       "    </tr>\n",
       "    <tr>\n",
       "      <th>27</th>\n",
       "      <td>0.999518</td>\n",
       "      <td>0.721917</td>\n",
       "    </tr>\n",
       "    <tr>\n",
       "      <th>29</th>\n",
       "      <td>0.999539</td>\n",
       "      <td>0.729374</td>\n",
       "    </tr>\n",
       "    <tr>\n",
       "      <th>31</th>\n",
       "      <td>0.999545</td>\n",
       "      <td>0.740319</td>\n",
       "    </tr>\n",
       "    <tr>\n",
       "      <th>33</th>\n",
       "      <td>0.999546</td>\n",
       "      <td>0.706489</td>\n",
       "    </tr>\n",
       "  </tbody>\n",
       "</table>\n",
       "</div>"
      ],
      "text/plain": [
       "    train_score  valid_score\n",
       "1      0.321050     0.322465\n",
       "3      0.603243     0.559284\n",
       "5      0.752169     0.688484\n",
       "7      0.835876     0.758259\n",
       "9      0.894960     0.768184\n",
       "11     0.938201     0.772185\n",
       "13     0.966812     0.760966\n",
       "15     0.983340     0.754620\n",
       "17     0.992220     0.730025\n",
       "19     0.996487     0.722803\n",
       "21     0.998440     0.726659\n",
       "23     0.999178     0.730704\n",
       "25     0.999438     0.711356\n",
       "27     0.999518     0.721917\n",
       "29     0.999539     0.729374\n",
       "31     0.999545     0.740319\n",
       "33     0.999546     0.706489"
      ]
     },
     "execution_count": 32,
     "metadata": {},
     "output_type": "execute_result"
    }
   ],
=======
   "execution_count": null,
   "metadata": {},
   "outputs": [],
>>>>>>> parent of fc4de9d (Merge branch 'main' of https://github.com/UBC-CS/cpsc330-2024W1)
   "source": [
    "results_df = pd.DataFrame({\"train_score\": cv_train_scores, \n",
    "                           \"valid_score\": cv_valid_scores\n",
    "                           },\n",
    "                           index=depths\n",
    "                            )\n",
    "results_df"
   ]
  },
  {
   "cell_type": "code",
<<<<<<< HEAD
   "execution_count": 33,
   "metadata": {},
   "outputs": [
    {
     "data": {
      "image/png": "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",
      "text/plain": [
       "<Figure size 640x480 with 1 Axes>"
      ]
     },
     "metadata": {},
     "output_type": "display_data"
    }
   ],
=======
   "execution_count": null,
   "metadata": {},
   "outputs": [],
>>>>>>> parent of fc4de9d (Merge branch 'main' of https://github.com/UBC-CS/cpsc330-2024W1)
   "source": [
    "results_df[['train_score', 'valid_score']].plot(ylabel='r2 score', title='Housing price prediction depth vs. r2 score');"
   ]
  },
  {
   "cell_type": "markdown",
   "metadata": {},
   "source": [
    "What's the \"best\" depth with cross-validation? "
   ]
  },
  {
   "cell_type": "code",
<<<<<<< HEAD
   "execution_count": 34,
   "metadata": {},
   "outputs": [
    {
     "data": {
      "text/plain": [
       "11"
      ]
     },
     "execution_count": 34,
     "metadata": {},
     "output_type": "execute_result"
    }
   ],
=======
   "execution_count": null,
   "metadata": {},
   "outputs": [],
>>>>>>> parent of fc4de9d (Merge branch 'main' of https://github.com/UBC-CS/cpsc330-2024W1)
   "source": [
    "best_depth = results_df['valid_score'].idxmax()\n",
    "best_depth"
   ]
  },
  {
   "cell_type": "markdown",
   "metadata": {},
   "source": [
    "### Discuss the following questions in your group\n",
    "\n",
    "1.\tAt which depth(s) are we underfitting? At which depth(s) are we overfitting?\n",
    "2.\tAbove, we chose the depth that gives us the best cross-validation score. Is it always a good idea to select this depth? What if a simpler model with a smaller max_depth gives nearly the same cross-validation score?\n",
    "3.\tIf our main concern is test scores, why don't we use the test set during training?\n",
    "4.\tDo you trust our hyperparameter optimization process? In other words, do you believe we've found the best possible depth?"
   ]
  },
  {
   "cell_type": "markdown",
   "metadata": {},
   "source": [
<<<<<<< HEAD
    "At which depth(s) are we underfitting? At which depth(s) are we overfitting? Smaller depth is underfitting, larger depth is overfitting. (train score high, validation score is not that high)\n",
    "\n",
    "Above, we chose the depth that gives us the best cross-validation score. Is it always a good idea to select this depth? What if a simpler model with a smaller max_depth gives nearly the same cross-validation score?\n",
    "\n",
    "If our main concern is test scores, why don't we use the test set during training?\n",
    "\n",
    "Do you trust our hyperparameter optimization process? In other words, do you believe we've found the best possible depth?"
   ]
  },
  {
   "cell_type": "markdown",
   "metadata": {},
   "source": [
=======
>>>>>>> parent of fc4de9d (Merge branch 'main' of https://github.com/UBC-CS/cpsc330-2024W1)
    "<br><br>"
   ]
  },
  {
   "cell_type": "markdown",
   "metadata": {},
   "source": [
    "## Assessing on the test set"
   ]
  },
  {
   "cell_type": "code",
<<<<<<< HEAD
   "execution_count": 35,
   "metadata": {},
   "outputs": [
    {
     "data": {
      "text/plain": [
       "0.9308647034083802"
      ]
     },
     "execution_count": 35,
     "metadata": {},
     "output_type": "execute_result"
    }
   ],
=======
   "execution_count": null,
   "metadata": {},
   "outputs": [],
>>>>>>> parent of fc4de9d (Merge branch 'main' of https://github.com/UBC-CS/cpsc330-2024W1)
   "source": [
    "# Train a model with the best depth of the full training data\n",
    "dt_final = DecisionTreeRegressor(max_depth=best_depth, random_state=123)\n",
    "dt_final.fit(X_train, y_train)\n",
    "dt_final.score(X_train, y_train)"
   ]
  },
  {
   "cell_type": "code",
<<<<<<< HEAD
   "execution_count": 36,
   "metadata": {},
   "outputs": [
    {
     "data": {
      "text/plain": [
       "0.7784948928666875"
      ]
     },
     "execution_count": 36,
     "metadata": {},
     "output_type": "execute_result"
    }
   ],
=======
   "execution_count": null,
   "metadata": {},
   "outputs": [],
>>>>>>> parent of fc4de9d (Merge branch 'main' of https://github.com/UBC-CS/cpsc330-2024W1)
   "source": [
    "dt_final.score(X_test, y_test)"
   ]
  },
  {
   "cell_type": "markdown",
   "metadata": {},
   "source": [
    "How do these scores compare to the scores when we used a single validation set? "
   ]
  },
  {
   "cell_type": "markdown",
   "metadata": {},
   "source": [
    "### Learned model "
   ]
  },
  {
   "cell_type": "code",
<<<<<<< HEAD
   "execution_count": 37,
   "metadata": {},
   "outputs": [
    {
     "data": {
      "text/plain": [
       "11"
      ]
     },
     "execution_count": 37,
     "metadata": {},
     "output_type": "execute_result"
    }
   ],
=======
   "execution_count": null,
   "metadata": {},
   "outputs": [],
>>>>>>> parent of fc4de9d (Merge branch 'main' of https://github.com/UBC-CS/cpsc330-2024W1)
   "source": [
    "#What's the depth of the model? \n",
    "dt_final.get_depth()"
   ]
  },
  {
   "cell_type": "code",
<<<<<<< HEAD
   "execution_count": 38,
=======
   "execution_count": null,
>>>>>>> parent of fc4de9d (Merge branch 'main' of https://github.com/UBC-CS/cpsc330-2024W1)
   "metadata": {},
   "outputs": [],
   "source": [
    "# plot_tree(dt_final, feature_names = X_train.columns.tolist(), impurity=False, filled=True);"
   ]
  },
  {
   "cell_type": "code",
<<<<<<< HEAD
   "execution_count": 39,
   "metadata": {},
   "outputs": [
    {
     "data": {
      "text/plain": [
       "array([0.00080741, 0.00327551, 0.25123925, 0.01808825, 0.00079645,\n",
       "       0.03213916, 0.01190633, 0.00106308, 0.36400802, 0.02313684,\n",
       "       0.00295235, 0.01209545, 0.00064647, 0.17216105, 0.06835056,\n",
       "       0.02416048, 0.01317334])"
      ]
     },
     "execution_count": 39,
     "metadata": {},
     "output_type": "execute_result"
    }
   ],
=======
   "execution_count": null,
   "metadata": {},
   "outputs": [],
>>>>>>> parent of fc4de9d (Merge branch 'main' of https://github.com/UBC-CS/cpsc330-2024W1)
   "source": [
    "# Which features are the most important ones?\n",
    "dt_final.feature_importances_"
   ]
  },
  {
   "cell_type": "markdown",
   "metadata": {},
   "source": [
    "Let's examine feature importances. "
   ]
  },
  {
   "cell_type": "code",
<<<<<<< HEAD
   "execution_count": 40,
   "metadata": {},
   "outputs": [
    {
     "data": {
      "text/html": [
       "<div>\n",
       "<style scoped>\n",
       "    .dataframe tbody tr th:only-of-type {\n",
       "        vertical-align: middle;\n",
       "    }\n",
       "\n",
       "    .dataframe tbody tr th {\n",
       "        vertical-align: top;\n",
       "    }\n",
       "\n",
       "    .dataframe thead th {\n",
       "        text-align: right;\n",
       "    }\n",
       "</style>\n",
       "<table border=\"1\" class=\"dataframe\">\n",
       "  <thead>\n",
       "    <tr style=\"text-align: right;\">\n",
       "      <th></th>\n",
       "      <th>features</th>\n",
       "      <th>feature_importances</th>\n",
       "    </tr>\n",
       "  </thead>\n",
       "  <tbody>\n",
       "    <tr>\n",
       "      <th>8</th>\n",
       "      <td>grade</td>\n",
       "      <td>0.364008</td>\n",
       "    </tr>\n",
       "    <tr>\n",
       "      <th>2</th>\n",
       "      <td>sqft_living</td>\n",
       "      <td>0.251239</td>\n",
       "    </tr>\n",
       "    <tr>\n",
       "      <th>13</th>\n",
       "      <td>lat</td>\n",
       "      <td>0.172161</td>\n",
       "    </tr>\n",
       "    <tr>\n",
       "      <th>14</th>\n",
       "      <td>long</td>\n",
       "      <td>0.068351</td>\n",
       "    </tr>\n",
       "    <tr>\n",
       "      <th>5</th>\n",
       "      <td>waterfront</td>\n",
       "      <td>0.032139</td>\n",
       "    </tr>\n",
       "    <tr>\n",
       "      <th>15</th>\n",
       "      <td>sqft_living15</td>\n",
       "      <td>0.024160</td>\n",
       "    </tr>\n",
       "    <tr>\n",
       "      <th>9</th>\n",
       "      <td>sqft_above</td>\n",
       "      <td>0.023137</td>\n",
       "    </tr>\n",
       "    <tr>\n",
       "      <th>3</th>\n",
       "      <td>sqft_lot</td>\n",
       "      <td>0.018088</td>\n",
       "    </tr>\n",
       "    <tr>\n",
       "      <th>16</th>\n",
       "      <td>sqft_lot15</td>\n",
       "      <td>0.013173</td>\n",
       "    </tr>\n",
       "    <tr>\n",
       "      <th>11</th>\n",
       "      <td>yr_built</td>\n",
       "      <td>0.012095</td>\n",
       "    </tr>\n",
       "    <tr>\n",
       "      <th>6</th>\n",
       "      <td>view</td>\n",
       "      <td>0.011906</td>\n",
       "    </tr>\n",
       "    <tr>\n",
       "      <th>1</th>\n",
       "      <td>bathrooms</td>\n",
       "      <td>0.003276</td>\n",
       "    </tr>\n",
       "    <tr>\n",
       "      <th>10</th>\n",
       "      <td>sqft_basement</td>\n",
       "      <td>0.002952</td>\n",
       "    </tr>\n",
       "    <tr>\n",
       "      <th>7</th>\n",
       "      <td>condition</td>\n",
       "      <td>0.001063</td>\n",
       "    </tr>\n",
       "    <tr>\n",
       "      <th>0</th>\n",
       "      <td>bedrooms</td>\n",
       "      <td>0.000807</td>\n",
       "    </tr>\n",
       "    <tr>\n",
       "      <th>4</th>\n",
       "      <td>floors</td>\n",
       "      <td>0.000796</td>\n",
       "    </tr>\n",
       "    <tr>\n",
       "      <th>12</th>\n",
       "      <td>yr_renovated</td>\n",
       "      <td>0.000646</td>\n",
       "    </tr>\n",
       "  </tbody>\n",
       "</table>\n",
       "</div>"
      ],
      "text/plain": [
       "         features  feature_importances\n",
       "8           grade             0.364008\n",
       "2     sqft_living             0.251239\n",
       "13            lat             0.172161\n",
       "14           long             0.068351\n",
       "5      waterfront             0.032139\n",
       "15  sqft_living15             0.024160\n",
       "9      sqft_above             0.023137\n",
       "3        sqft_lot             0.018088\n",
       "16     sqft_lot15             0.013173\n",
       "11       yr_built             0.012095\n",
       "6            view             0.011906\n",
       "1       bathrooms             0.003276\n",
       "10  sqft_basement             0.002952\n",
       "7       condition             0.001063\n",
       "0        bedrooms             0.000807\n",
       "4          floors             0.000796\n",
       "12   yr_renovated             0.000646"
      ]
     },
     "execution_count": 40,
     "metadata": {},
     "output_type": "execute_result"
    }
   ],
=======
   "execution_count": null,
   "metadata": {},
   "outputs": [],
>>>>>>> parent of fc4de9d (Merge branch 'main' of https://github.com/UBC-CS/cpsc330-2024W1)
   "source": [
    "df = pd.DataFrame( \n",
    "    data = {\n",
    "        \"features\": dt_final.feature_names_in_,\n",
    "        \"feature_importances\": dt_final.feature_importances_\n",
    "    }\n",
    ")\n",
    "df.sort_values(\"feature_importances\", ascending=False)"
   ]
  },
  {
   "cell_type": "markdown",
   "metadata": {},
   "source": [
    "<br><br>"
   ]
  },
  {
   "cell_type": "markdown",
   "metadata": {},
   "source": [
    "## Concepts we revised in this demo\n",
    "\n",
    "- Exploratory data analysis\n",
    "- Baselines\n",
    "- Data splitting: train, test, validation sets\n",
    "- Cross validation\n",
    "- Underfitting, overfitting, the fundamental tradeoff\n",
    "- The golden rule of supervised ML"
   ]
  },
  {
   "cell_type": "markdown",
   "metadata": {},
   "source": [
    "## Typical steps to build a supervised machine learning model\n",
    "\n",
    "- Ensure the data is appropriate for your task (e.g., labeled data, suitable features).\n",
    "- Split the data into training and testing sets.\n",
    "- Perform exploratory data analysis (EDA) on the training data to understand distributions, identify patterns, and detect potential issues.\n",
    "- Preprocess and encode features (e.g., handle missing values, scale features, encode categorical variables).\n",
    "    - coming up \n",
    "- Build a baseline model to establish a performance benchmark.\n",
    "- Train multiple candidate models on the training data.\n",
    "    - coming up  \n",
    "- Select promising models and perform hyperparameter tuning using cross-validation.\n",
    "    - coming up \n",
    "- Evaluate the generalization performance of the best model on the test set.\n"
   ]
  },
  {
   "cell_type": "markdown",
   "metadata": {},
   "source": [
    "<br><br>"
   ]
  }
 ],
 "metadata": {
  "celltoolbar": "Slideshow",
  "kernelspec": {
   "display_name": "Python [conda env:cpsc330] *",
   "language": "python",
   "name": "conda-env-cpsc330-py"
  },
  "language_info": {
   "codemirror_mode": {
    "name": "ipython",
    "version": 3
   },
   "file_extension": ".py",
   "mimetype": "text/x-python",
   "name": "python",
   "nbconvert_exporter": "python",
   "pygments_lexer": "ipython3",
   "version": "3.12.0"
  }
 },
 "nbformat": 4,
 "nbformat_minor": 4
}
